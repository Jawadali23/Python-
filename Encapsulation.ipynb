{
 "cells": [
  {
   "cell_type": "code",
   "execution_count": 1,
   "id": "4cde2666-1c6a-41e7-9de3-81afec99dcf5",
   "metadata": {},
   "outputs": [],
   "source": [
    "## Access Modifier -----> Encapsulation\n",
    "## Private  __ Two Underscore\n",
    "## protected     _ One Underscore"
   ]
  },
  {
   "cell_type": "code",
   "execution_count": null,
   "id": "b55f4ed7-f2b7-4ae1-8094-bd7f79dc1b57",
   "metadata": {},
   "outputs": [],
   "source": [
    "# Private\n",
    "class Person:\n",
    "    ### Constructor\n",
    "    def __init__(self,name,age):\n",
    "        self.__name=name\n",
    "        self.__age=age\n",
    "    def display_info(self):\n",
    "        print(f\"The person name is {self.__name} and the age is {self.__age}\")"
   ]
  },
  {
   "cell_type": "code",
   "execution_count": 2,
   "id": "16e62c46-ce5b-48bf-a2a7-b96704f21170",
   "metadata": {},
   "outputs": [],
   "source": [
    "# Protected\n",
    "class Person:\n",
    "    ### Constructor\n",
    "    def __init__(self,name,age):\n",
    "        self._name=name\n",
    "        self._age=age\n",
    "    def display_info(self):\n",
    "        print(f\"The person name is {self._name} and the age is {self._age}\")"
   ]
  },
  {
   "cell_type": "code",
   "execution_count": 3,
   "id": "c9e66d8c-0a48-4377-9c5f-51b610598091",
   "metadata": {},
   "outputs": [
    {
     "name": "stdout",
     "output_type": "stream",
     "text": [
      "The person name is Jawad and the age is 20\n"
     ]
    }
   ],
   "source": [
    "person=Person('Jawad',20)\n",
    "person.display_info()"
   ]
  },
  {
   "cell_type": "code",
   "execution_count": 4,
   "id": "83627091-8d17-48ae-a8bc-d297b4b5f50f",
   "metadata": {},
   "outputs": [],
   "source": [
    "# Protected\n",
    "class Student(Person):\n",
    "     def __init__(self,name,age):\n",
    "         super().__init__(name,age)\n",
    "     def display_info(self):\n",
    "        print(f\"The person name is {self._name} and the age is {self._age}\")"
   ]
  },
  {
   "cell_type": "code",
   "execution_count": 5,
   "id": "ca845fc3-fa37-4277-95df-0f37295d50c5",
   "metadata": {},
   "outputs": [],
   "source": [
    "student=Student('Jawad',20)"
   ]
  },
  {
   "cell_type": "code",
   "execution_count": 6,
   "id": "45c7f362-5284-42b7-b524-e37d7cf7c6fa",
   "metadata": {},
   "outputs": [
    {
     "name": "stdout",
     "output_type": "stream",
     "text": [
      "The person name is Jawad and the age is 20\n"
     ]
    }
   ],
   "source": [
    "student.display_info()"
   ]
  },
  {
   "cell_type": "code",
   "execution_count": null,
   "id": "26546135-58e6-4c55-8dca-cc0090114dfe",
   "metadata": {},
   "outputs": [],
   "source": [
    "#Public\n",
    " class Person:\n",
    "    ### Constructor\n",
    "    def __init__(self,name,age):\n",
    "        self.name=name\n",
    "        self.age=age\n",
    "    def display_info(self):\n",
    "        print(f\"The person name is {self.name} and the age is {self.age}\")"
   ]
  }
 ],
 "metadata": {
  "kernelspec": {
   "display_name": "Python 3 (ipykernel)",
   "language": "python",
   "name": "python3"
  },
  "language_info": {
   "codemirror_mode": {
    "name": "ipython",
    "version": 3
   },
   "file_extension": ".py",
   "mimetype": "text/x-python",
   "name": "python",
   "nbconvert_exporter": "python",
   "pygments_lexer": "ipython3",
   "version": "3.11.5"
  }
 },
 "nbformat": 4,
 "nbformat_minor": 5
}
