{
 "cells": [
  {
   "cell_type": "markdown",
   "id": "d492fa85-c463-402e-acd9-f22d245c72af",
   "metadata": {},
   "source": [
    "# Python Data Classes"
   ]
  },
  {
   "cell_type": "code",
   "execution_count": 1,
   "id": "d8191d1b-2472-4f78-ade4-4447b3e607f9",
   "metadata": {},
   "outputs": [],
   "source": [
    "from dataclasses import dataclass"
   ]
  },
  {
   "cell_type": "code",
   "execution_count": 2,
   "id": "7187b450-a1ce-4300-9822-24b88912aa53",
   "metadata": {},
   "outputs": [],
   "source": [
    "@dataclass\n",
    "class Person:\n",
    "    name:str\n",
    "    age:int\n",
    "    profession:str"
   ]
  },
  {
   "cell_type": "code",
   "execution_count": 3,
   "id": "e0555c3b-d1fe-48ae-8ce9-2e1cfcabfb32",
   "metadata": {},
   "outputs": [
    {
     "data": {
      "text/plain": [
       "'class Person:\\n    def __init__(self,name,age,profession):\\n        self.name=name\\n        self.age=age\\n        self.profession=profession\\n        '"
      ]
     },
     "execution_count": 3,
     "metadata": {},
     "output_type": "execute_result"
    }
   ],
   "source": [
    "\"\"\"class Person:\n",
    "    def __init__(self,name,age,profession):\n",
    "        self.name=name\n",
    "        self.age=age\n",
    "        self.profession=profession\n",
    "        \"\"\""
   ]
  },
  {
   "cell_type": "code",
   "execution_count": 4,
   "id": "ed997d07-a482-4576-94de-f9419ee10838",
   "metadata": {},
   "outputs": [],
   "source": [
    "person1=Person('Jawad',20,\"SE\")"
   ]
  },
  {
   "cell_type": "code",
   "execution_count": 5,
   "id": "3179144d-837a-4ec2-bdfb-f34f34d1b7e5",
   "metadata": {},
   "outputs": [
    {
     "data": {
      "text/plain": [
       "20"
      ]
     },
     "execution_count": 5,
     "metadata": {},
     "output_type": "execute_result"
    }
   ],
   "source": [
    "person1.age"
   ]
  },
  {
   "cell_type": "code",
   "execution_count": 6,
   "id": "7f422d00-4935-42c3-88f1-fe947ed9c69f",
   "metadata": {},
   "outputs": [
    {
     "data": {
      "text/plain": [
       "'Jawad'"
      ]
     },
     "execution_count": 6,
     "metadata": {},
     "output_type": "execute_result"
    }
   ],
   "source": [
    "person1.name"
   ]
  },
  {
   "cell_type": "code",
   "execution_count": 7,
   "id": "99df3f44-374a-4652-8a38-c69e2b9e571e",
   "metadata": {},
   "outputs": [],
   "source": [
    "@dataclass\n",
    "class Rectangle:\n",
    "    width:int\n",
    "    height:int\n",
    "    color:str='white'"
   ]
  },
  {
   "cell_type": "code",
   "execution_count": 8,
   "id": "c1fa8025-d35c-4505-bb67-b8529e9232bb",
   "metadata": {},
   "outputs": [],
   "source": [
    "rectangle1=Rectangle(12,14)\n",
    "rectangle2=Rectangle(13,15,'red')"
   ]
  },
  {
   "cell_type": "code",
   "execution_count": 9,
   "id": "b689de49-78fc-4ee6-a545-c4b7e7257365",
   "metadata": {},
   "outputs": [
    {
     "data": {
      "text/plain": [
       "'red'"
      ]
     },
     "execution_count": 9,
     "metadata": {},
     "output_type": "execute_result"
    }
   ],
   "source": [
    "rectangle2.color"
   ]
  },
  {
   "cell_type": "code",
   "execution_count": 10,
   "id": "46535602-29c7-44e7-8268-e168af812e8a",
   "metadata": {},
   "outputs": [],
   "source": [
    "@dataclass(frozen=True)\n",
    "class Point:\n",
    "    x:int\n",
    "    y:int\n",
    "    "
   ]
  },
  {
   "cell_type": "code",
   "execution_count": 11,
   "id": "b35a624c-dc6e-4f98-ab0d-74bd75c6fccc",
   "metadata": {},
   "outputs": [],
   "source": [
    "point=Point(3,4)"
   ]
  },
  {
   "cell_type": "code",
   "execution_count": 12,
   "id": "a38cd2e6-df8b-4d8c-b4dd-1d2598123ef2",
   "metadata": {},
   "outputs": [
    {
     "data": {
      "text/plain": [
       "3"
      ]
     },
     "execution_count": 12,
     "metadata": {},
     "output_type": "execute_result"
    }
   ],
   "source": [
    "point.x"
   ]
  },
  {
   "cell_type": "code",
   "execution_count": 13,
   "id": "d2a2ea7c-4329-40eb-b022-0df72b3ff217",
   "metadata": {},
   "outputs": [
    {
     "data": {
      "text/plain": [
       "4"
      ]
     },
     "execution_count": 13,
     "metadata": {},
     "output_type": "execute_result"
    }
   ],
   "source": [
    "point.y"
   ]
  },
  {
   "cell_type": "code",
   "execution_count": 14,
   "id": "30fe15d0-82f1-473e-9c6a-bad0457a6c56",
   "metadata": {},
   "outputs": [
    {
     "ename": "FrozenInstanceError",
     "evalue": "cannot assign to field 'x'",
     "output_type": "error",
     "traceback": [
      "\u001b[1;31m---------------------------------------------------------------------------\u001b[0m",
      "\u001b[1;31mFrozenInstanceError\u001b[0m                       Traceback (most recent call last)",
      "Cell \u001b[1;32mIn[14], line 1\u001b[0m\n\u001b[1;32m----> 1\u001b[0m \u001b[43mpoint\u001b[49m\u001b[38;5;241;43m.\u001b[39;49m\u001b[43mx\u001b[49m\u001b[38;5;241m=\u001b[39m\u001b[38;5;241m5\u001b[39m\n",
      "File \u001b[1;32m<string>:4\u001b[0m, in \u001b[0;36m__setattr__\u001b[1;34m(self, name, value)\u001b[0m\n",
      "\u001b[1;31mFrozenInstanceError\u001b[0m: cannot assign to field 'x'"
     ]
    }
   ],
   "source": [
    "point.x=5"
   ]
  },
  {
   "cell_type": "code",
   "execution_count": null,
   "id": "49ba1f29-459b-4d32-8fb1-eb500236939e",
   "metadata": {},
   "outputs": [],
   "source": [
    "## inheritance\n",
    "\n",
    "@dataclass\n",
    "class Person:\n",
    "    name:str\n",
    "    age:int\n",
    "\n",
    "@dataclass\n",
    "class Employee(Person):\n",
    "    employee_id:str\n",
    "    depart:str\n",
    "    "
   ]
  },
  {
   "cell_type": "code",
   "execution_count": null,
   "id": "0d1aeb8c-21f4-48a4-97fd-dd0bbc650f14",
   "metadata": {},
   "outputs": [],
   "source": [
    "person=Person('Jawad',20)\n",
    "employee=Employee('Jawad',20,\"123\",'SE')"
   ]
  },
  {
   "cell_type": "code",
   "execution_count": null,
   "id": "081d86e0-c31b-4454-9e12-4513624a5f70",
   "metadata": {},
   "outputs": [],
   "source": [
    "employee.name"
   ]
  },
  {
   "cell_type": "code",
   "execution_count": null,
   "id": "6c5c3c79-0bb9-46d1-bf98-6dbf16e18352",
   "metadata": {},
   "outputs": [],
   "source": [
    "employee.age"
   ]
  },
  {
   "cell_type": "code",
   "execution_count": null,
   "id": "8097c8fb-8b10-495e-bb45-a94f998a7cfd",
   "metadata": {},
   "outputs": [],
   "source": [
    "employee.employee_id"
   ]
  },
  {
   "cell_type": "code",
   "execution_count": null,
   "id": "00eab0a0-e1fd-4db6-a7f9-47df77f59f37",
   "metadata": {},
   "outputs": [],
   "source": [
    "employee.depart"
   ]
  },
  {
   "cell_type": "code",
   "execution_count": null,
   "id": "db2c9e11-c35a-4c10-8af8-07858897bc74",
   "metadata": {},
   "outputs": [],
   "source": [
    "person.age"
   ]
  },
  {
   "cell_type": "code",
   "execution_count": null,
   "id": "2421d8e4-28b2-4398-92c0-2fe2fc68bc50",
   "metadata": {},
   "outputs": [],
   "source": [
    "person.name"
   ]
  },
  {
   "cell_type": "code",
   "execution_count": 15,
   "id": "0a1ecc53-c822-43bb-9215-f5207533c9f7",
   "metadata": {},
   "outputs": [],
   "source": [
    "## Nested Dataclasses\n",
    "\n",
    "@dataclass\n",
    "class Address:\n",
    "    street:str\n",
    "    city:str\n",
    "    zip_code:str\n",
    "\n",
    "@dataclass\n",
    "class Person:\n",
    "    name:str\n",
    "    age:str\n",
    "    address:Address"
   ]
  },
  {
   "cell_type": "code",
   "execution_count": 16,
   "id": "3da654ea-6441-4902-88bd-896c055b2e30",
   "metadata": {
    "scrolled": true
   },
   "outputs": [],
   "source": [
    "address=Address('123 Main Street','Larkana','7071')"
   ]
  },
  {
   "cell_type": "code",
   "execution_count": 17,
   "id": "7538d5e0-12ca-4b6c-953c-999c82cd0d60",
   "metadata": {},
   "outputs": [],
   "source": [
    "person=Person('Jawad',20,address)"
   ]
  },
  {
   "cell_type": "code",
   "execution_count": 19,
   "id": "b872d7ec-5fcc-4737-8bac-423c6ef95a3d",
   "metadata": {},
   "outputs": [
    {
     "data": {
      "text/plain": [
       "'Larkana'"
      ]
     },
     "execution_count": 19,
     "metadata": {},
     "output_type": "execute_result"
    }
   ],
   "source": [
    "person.address.city"
   ]
  },
  {
   "cell_type": "code",
   "execution_count": null,
   "id": "99c0ce63-66e6-4db1-aee2-9618910a9c57",
   "metadata": {},
   "outputs": [],
   "source": []
  }
 ],
 "metadata": {
  "kernelspec": {
   "display_name": "Python 3 (ipykernel)",
   "language": "python",
   "name": "python3"
  },
  "language_info": {
   "codemirror_mode": {
    "name": "ipython",
    "version": 3
   },
   "file_extension": ".py",
   "mimetype": "text/x-python",
   "name": "python",
   "nbconvert_exporter": "python",
   "pygments_lexer": "ipython3",
   "version": "3.11.5"
  }
 },
 "nbformat": 4,
 "nbformat_minor": 5
}
