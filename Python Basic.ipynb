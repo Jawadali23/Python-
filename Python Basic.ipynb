{
 "cells": [
  {
   "cell_type": "markdown",
   "id": "3d4595b0-079b-4827-9f5c-739de1b6692b",
   "metadata": {},
   "source": [
    "# Tutorial_2 Basics of Python"
   ]
  },
  {
   "cell_type": "code",
   "execution_count": 1,
   "id": "c24feecf-8fa8-4ba3-aeef-513b2445cd88",
   "metadata": {},
   "outputs": [
    {
     "name": "stdout",
     "output_type": "stream",
     "text": [
      "Hello World\n"
     ]
    }
   ],
   "source": [
    "print(\"Hello World\")\n"
   ]
  },
  {
   "cell_type": "code",
   "execution_count": 4,
   "id": "342cd6f7-d88c-4900-a793-1109daeaaefc",
   "metadata": {},
   "outputs": [
    {
     "name": "stdout",
     "output_type": "stream",
     "text": [
      "Hello, Hi\n"
     ]
    }
   ],
   "source": [
    "# Multiline comments\n",
    "'''\n",
    "   Welcome to Second Tutorial of Python\n",
    "'''\n",
    "print(\"Hello, Hi\")"
   ]
  },
  {
   "cell_type": "code",
   "execution_count": 5,
   "id": "86592b96-974b-464c-a0aa-0eb89c28af1c",
   "metadata": {},
   "outputs": [
    {
     "data": {
      "text/plain": [
       "int"
      ]
     },
     "execution_count": 5,
     "metadata": {},
     "output_type": "execute_result"
    }
   ],
   "source": [
    "# Variable Declaration\n",
    "a=10\n",
    "type(a)"
   ]
  },
  {
   "cell_type": "code",
   "execution_count": 6,
   "id": "2f27f19c-27fa-468a-b015-515c51558539",
   "metadata": {},
   "outputs": [
    {
     "data": {
      "text/plain": [
       "10"
      ]
     },
     "execution_count": 6,
     "metadata": {},
     "output_type": "execute_result"
    }
   ],
   "source": [
    "a"
   ]
  },
  {
   "cell_type": "code",
   "execution_count": 7,
   "id": "9b75d6f6-2f2d-4c76-a0c9-16ce8d09a099",
   "metadata": {},
   "outputs": [
    {
     "name": "stdout",
     "output_type": "stream",
     "text": [
      "10\n"
     ]
    }
   ],
   "source": [
    "print(a)"
   ]
  },
  {
   "cell_type": "code",
   "execution_count": 9,
   "id": "5d300d00-67e5-4bb5-ad8a-c9f2eb98c6c8",
   "metadata": {},
   "outputs": [
    {
     "data": {
      "text/plain": [
       "42"
      ]
     },
     "execution_count": 9,
     "metadata": {},
     "output_type": "execute_result"
    }
   ],
   "source": [
    "a1= 42\n",
    "a1"
   ]
  },
  {
   "cell_type": "code",
   "execution_count": 10,
   "id": "bff6f50e-7f0d-4cb7-a782-6ffee7495255",
   "metadata": {},
   "outputs": [],
   "source": [
    "first_name=\"Jawad\""
   ]
  },
  {
   "cell_type": "code",
   "execution_count": 11,
   "id": "4dbedd26-04be-4855-ad49-bda392a8f753",
   "metadata": {},
   "outputs": [
    {
     "data": {
      "text/plain": [
       "'Jawad'"
      ]
     },
     "execution_count": 11,
     "metadata": {},
     "output_type": "execute_result"
    }
   ],
   "source": [
    "first_name"
   ]
  },
  {
   "cell_type": "code",
   "execution_count": 12,
   "id": "69a01045-f027-40b7-9056-a9584f9e3255",
   "metadata": {},
   "outputs": [
    {
     "data": {
      "text/plain": [
       "100"
      ]
     },
     "execution_count": 12,
     "metadata": {},
     "output_type": "execute_result"
    }
   ],
   "source": [
    "a*10"
   ]
  },
  {
   "cell_type": "code",
   "execution_count": 13,
   "id": "6cb5206c-a223-4083-8a9d-1bdcf5675a68",
   "metadata": {},
   "outputs": [
    {
     "data": {
      "text/plain": [
       "0"
      ]
     },
     "execution_count": 13,
     "metadata": {},
     "output_type": "execute_result"
    }
   ],
   "source": [
    "a%10"
   ]
  },
  {
   "cell_type": "code",
   "execution_count": 1,
   "id": "3a6c5a15-3e46-4404-815f-788db5528f8a",
   "metadata": {},
   "outputs": [],
   "source": [
    "#floating\n",
    "a=10.5"
   ]
  },
  {
   "cell_type": "code",
   "execution_count": 2,
   "id": "9fc40184-f9d8-4209-a692-ff756b05d4f9",
   "metadata": {},
   "outputs": [
    {
     "data": {
      "text/plain": [
       "float"
      ]
     },
     "execution_count": 2,
     "metadata": {},
     "output_type": "execute_result"
    }
   ],
   "source": [
    "type(a)"
   ]
  },
  {
   "cell_type": "code",
   "execution_count": 3,
   "id": "bc51c95c-1a26-41ab-a694-0cb5a5bfbcae",
   "metadata": {},
   "outputs": [
    {
     "name": "stdout",
     "output_type": "stream",
     "text": [
      "<class 'float'>\n"
     ]
    }
   ],
   "source": [
    "#Typecasting\n",
    "print(type(a))"
   ]
  },
  {
   "cell_type": "code",
   "execution_count": 4,
   "id": "a78007e2-5272-4d19-8a53-44b922b05a10",
   "metadata": {},
   "outputs": [
    {
     "data": {
      "text/plain": [
       "10"
      ]
     },
     "execution_count": 4,
     "metadata": {},
     "output_type": "execute_result"
    }
   ],
   "source": [
    "int(a)"
   ]
  },
  {
   "cell_type": "code",
   "execution_count": 5,
   "id": "eac052fc-4cee-4a8d-91ad-7a6ee9e7554b",
   "metadata": {},
   "outputs": [
    {
     "data": {
      "text/plain": [
       "10.5"
      ]
     },
     "execution_count": 5,
     "metadata": {},
     "output_type": "execute_result"
    }
   ],
   "source": [
    "float(a)"
   ]
  },
  {
   "cell_type": "code",
   "execution_count": 14,
   "id": "127d5b35-d9b7-429a-8c71-4cd7bcbe5a03",
   "metadata": {},
   "outputs": [],
   "source": [
    "#Boolean\n",
    "a1=True\n",
    "b1=False\n"
   ]
  },
  {
   "cell_type": "code",
   "execution_count": 7,
   "id": "015c8a65-ffce-4fde-9b43-fe5273cf6d04",
   "metadata": {},
   "outputs": [
    {
     "data": {
      "text/plain": [
       "bool"
      ]
     },
     "execution_count": 7,
     "metadata": {},
     "output_type": "execute_result"
    }
   ],
   "source": [
    "type(a1)"
   ]
  },
  {
   "cell_type": "code",
   "execution_count": 8,
   "id": "0c0657a7-1e7e-4e22-829e-434bb3978aea",
   "metadata": {},
   "outputs": [
    {
     "data": {
      "text/plain": [
       "bool"
      ]
     },
     "execution_count": 8,
     "metadata": {},
     "output_type": "execute_result"
    }
   ],
   "source": [
    "type(b1)"
   ]
  },
  {
   "cell_type": "code",
   "execution_count": 15,
   "id": "dd746189-7523-4150-aa04-9b84b8baf955",
   "metadata": {},
   "outputs": [
    {
     "data": {
      "text/plain": [
       "True"
      ]
     },
     "execution_count": 15,
     "metadata": {},
     "output_type": "execute_result"
    }
   ],
   "source": [
    "a1|b1"
   ]
  },
  {
   "cell_type": "code",
   "execution_count": 16,
   "id": "bc04b545-f073-47aa-9c3b-5b76f68f2742",
   "metadata": {},
   "outputs": [
    {
     "data": {
      "text/plain": [
       "False"
      ]
     },
     "execution_count": 16,
     "metadata": {},
     "output_type": "execute_result"
    }
   ],
   "source": [
    "a1&b1"
   ]
  },
  {
   "cell_type": "code",
   "execution_count": 17,
   "id": "7299519f-91ef-4992-b94e-0f478d100f3c",
   "metadata": {},
   "outputs": [
    {
     "name": "stdout",
     "output_type": "stream",
     "text": [
      "Jawad\n",
      "<class 'str'>\n"
     ]
    }
   ],
   "source": [
    "#Strings\n",
    "name1= \"Jawad\"\n",
    "print(name1)\n",
    "print(type(name1))\n"
   ]
  },
  {
   "cell_type": "code",
   "execution_count": 18,
   "id": "6b3efddb-884c-4dc2-ab98-0478e2df7146",
   "metadata": {},
   "outputs": [
    {
     "data": {
      "text/plain": [
       "'JawadAli'"
      ]
     },
     "execution_count": 18,
     "metadata": {},
     "output_type": "execute_result"
    }
   ],
   "source": [
    "#Concatenation\n",
    "name1 + 'Ali'"
   ]
  },
  {
   "cell_type": "code",
   "execution_count": 20,
   "id": "bcb92a0a-2a8c-4672-a5fc-acb1048a4303",
   "metadata": {},
   "outputs": [
    {
     "data": {
      "text/plain": [
       "'Jawad1'"
      ]
     },
     "execution_count": 20,
     "metadata": {},
     "output_type": "execute_result"
    }
   ],
   "source": [
    "name1 + str(1)"
   ]
  },
  {
   "cell_type": "code",
   "execution_count": 21,
   "id": "304fb694-c057-40ff-adcc-2dabd54178a0",
   "metadata": {},
   "outputs": [
    {
     "data": {
      "text/plain": [
       "(1-2.3j)"
      ]
     },
     "execution_count": 21,
     "metadata": {},
     "output_type": "execute_result"
    }
   ],
   "source": [
    "#Complex Numbers\n",
    "j= 1.0-2.3j\n",
    "j"
   ]
  },
  {
   "cell_type": "code",
   "execution_count": 27,
   "id": "ecb257ab-a5c9-44f1-8410-580f3473e6ed",
   "metadata": {},
   "outputs": [
    {
     "name": "stdout",
     "output_type": "stream",
     "text": [
      "1.0 -2.3\n"
     ]
    }
   ],
   "source": [
    "print(j.real,j.imag)"
   ]
  },
  {
   "cell_type": "code",
   "execution_count": 23,
   "id": "7d7afe0e-63b1-469e-9d83-8b0e63ebc160",
   "metadata": {},
   "outputs": [],
   "source": [
    "#Dynamic Typing\n",
    "a=10\n",
    "a='Junaid'"
   ]
  },
  {
   "cell_type": "code",
   "execution_count": 24,
   "id": "f693c00c-0271-4336-9ef3-14db695aedfd",
   "metadata": {},
   "outputs": [
    {
     "data": {
      "text/plain": [
       "'Junaid'"
      ]
     },
     "execution_count": 24,
     "metadata": {},
     "output_type": "execute_result"
    }
   ],
   "source": [
    "a"
   ]
  },
  {
   "cell_type": "code",
   "execution_count": 34,
   "id": "ef469048-3846-45f3-809f-fd6a65b18e9a",
   "metadata": {},
   "outputs": [],
   "source": [
    "#Strong Typing\n",
    "a=\"Jawad\""
   ]
  },
  {
   "cell_type": "code",
   "execution_count": 32,
   "id": "3d882513-4ef9-4112-9a4d-3310adb6021c",
   "metadata": {},
   "outputs": [
    {
     "data": {
      "text/plain": [
       "'Jawad Ali'"
      ]
     },
     "execution_count": 32,
     "metadata": {},
     "output_type": "execute_result"
    }
   ],
   "source": [
    "a + ' Ali'"
   ]
  },
  {
   "cell_type": "code",
   "execution_count": 50,
   "id": "7bc4f929-884d-40ee-95c8-75511b29acd2",
   "metadata": {},
   "outputs": [
    {
     "name": "stdout",
     "output_type": "stream",
     "text": [
      "The value of a is 100 and b 200\n"
     ]
    }
   ],
   "source": [
    "#String Formatting\n",
    "\n",
    "a= 100\n",
    "b = 200\n",
    "print('The value of a is {a1} and b {b1}'.format(a1=a,b1=b))"
   ]
  },
  {
   "cell_type": "code",
   "execution_count": 53,
   "id": "a992ca0e-99cc-4c3e-b491-2712955ba995",
   "metadata": {},
   "outputs": [
    {
     "name": "stdin",
     "output_type": "stream",
     "text": [
      "Enter the number A 45\n",
      "Enter the number B 15\n"
     ]
    },
    {
     "name": "stdout",
     "output_type": "stream",
     "text": [
      "60\n"
     ]
    }
   ],
   "source": [
    "#input type\n",
    "a =input(\"Enter the number A\")\n",
    "b= input('Enter the number B')\n",
    "print(int(a) + int(b))"
   ]
  },
  {
   "cell_type": "code",
   "execution_count": null,
   "id": "32b967ad-7b8b-45c4-a673-d20254671827",
   "metadata": {},
   "outputs": [],
   "source": []
  }
 ],
 "metadata": {
  "kernelspec": {
   "display_name": "Python 3 (ipykernel)",
   "language": "python",
   "name": "python3"
  },
  "language_info": {
   "codemirror_mode": {
    "name": "ipython",
    "version": 3
   },
   "file_extension": ".py",
   "mimetype": "text/x-python",
   "name": "python",
   "nbconvert_exporter": "python",
   "pygments_lexer": "ipython3",
   "version": "3.11.5"
  }
 },
 "nbformat": 4,
 "nbformat_minor": 5
}
