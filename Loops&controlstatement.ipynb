{
 "cells": [
  {
   "cell_type": "code",
   "execution_count": 1,
   "id": "26feb1c7-9901-4774-b9de-5bda469c08f2",
   "metadata": {},
   "outputs": [],
   "source": [
    "# Tutorial 3 Python Loops And Control Statements"
   ]
  },
  {
   "cell_type": "code",
   "execution_count": 2,
   "id": "932470f1-ce2d-40a9-b1d8-210e55d05c0c",
   "metadata": {},
   "outputs": [
    {
     "name": "stdin",
     "output_type": "stream",
     "text": [
      "Enter the number 15\n"
     ]
    },
    {
     "name": "stdout",
     "output_type": "stream",
     "text": [
      "The number is odd\n"
     ]
    }
   ],
   "source": [
    "#if- else statement\n",
    "\n",
    "val =input('Enter the number')\n",
    "value_float = float(val)\n",
    "if(value_float%2==0):\n",
    "    print('The number is Even')\n",
    "else:\n",
    "    print('The number is odd')\n"
   ]
  },
  {
   "cell_type": "code",
   "execution_count": 3,
   "id": "79f36ec3-bff7-4ca5-b6a1-fb46a63c9cca",
   "metadata": {},
   "outputs": [
    {
     "name": "stdin",
     "output_type": "stream",
     "text": [
      "Enter the age 17\n"
     ]
    },
    {
     "name": "stdout",
     "output_type": "stream",
     "text": [
      "Minor Age\n",
      "You are in college\n"
     ]
    }
   ],
   "source": [
    "#Age form\n",
    "#Nested loop\n",
    "\n",
    "age = float(input('Enter the age'))\n",
    "if(age<18):\n",
    "    print('Minor Age')\n",
    "    if (age<15):\n",
    "        print('You are in School')\n",
    "    else:\n",
    "        print('You are in college')\n",
    "elif(age>=18 and age<=45):\n",
    "    print('Mid Age')\n",
    "elif(age>45 and age<50):\n",
    "    print('Senior Mid Age')\n",
    "else:\n",
    "    print('Senior Citizen')\n"
   ]
  },
  {
   "cell_type": "code",
   "execution_count": 4,
   "id": "db0bf82d-9562-4f0c-8c0f-1a7bfddccc45",
   "metadata": {},
   "outputs": [
    {
     "name": "stdout",
     "output_type": "stream",
     "text": [
      "1\n",
      "2\n",
      "3\n",
      "4\n",
      "5\n",
      "6\n",
      "7\n"
     ]
    }
   ],
   "source": [
    "#Loops Statement\n",
    "## for loop, While Loop\n",
    "lst =[1,2,3,4,5,6,7]\n",
    "for i in lst:\n",
    "    print(i)"
   ]
  },
  {
   "cell_type": "code",
   "execution_count": 5,
   "id": "c60a395d-af05-4a6d-9ba0-f42e84efd82a",
   "metadata": {},
   "outputs": [
    {
     "name": "stdout",
     "output_type": "stream",
     "text": [
      "28\n"
     ]
    }
   ],
   "source": [
    "#find the sum of all elements in the list\n",
    "lst = [1,2,3,4,5,6,7]\n",
    "sum1=0\n",
    "for i in lst:\n",
    "    sum1=sum1+i\n",
    "print(sum1)"
   ]
  },
  {
   "cell_type": "code",
   "execution_count": 6,
   "id": "d078bf62-298a-493a-b79b-b7b37f2575bd",
   "metadata": {},
   "outputs": [
    {
     "name": "stdout",
     "output_type": "stream",
     "text": [
      "Even sum is 12\n",
      "Odd sum is 16\n"
     ]
    }
   ],
   "source": [
    "#find Even and Odd numbers\n",
    "list= [1,2,3,4,5,6,7]\n",
    "even_sum=0\n",
    "odd_sum=0\n",
    "for i in list:\n",
    "    if(i%2==0):\n",
    "        even_sum=even_sum+i\n",
    "    else:\n",
    "        odd_sum=odd_sum+i\n",
    "print('Even sum is {}'.format(even_sum))\n",
    "print('Odd sum is {}'.format(odd_sum))\n"
   ]
  },
  {
   "cell_type": "code",
   "execution_count": 7,
   "id": "9ca6abb1-ab7a-42eb-b636-ea8143e76725",
   "metadata": {},
   "outputs": [
    {
     "name": "stdout",
     "output_type": "stream",
     "text": [
      "30 25\n"
     ]
    }
   ],
   "source": [
    "#While Condition\n",
    "i=0\n",
    "even_sum=0\n",
    "odd_sum=0\n",
    "while(i<=10):\n",
    "    if(i%2==0):\n",
    "        even_sum=even_sum+i\n",
    "    else:\n",
    "        odd_sum=odd_sum+i\n",
    "    i=i+1\n",
    "print(even_sum,odd_sum)\n",
    "    \n",
    "\n"
   ]
  },
  {
   "cell_type": "code",
   "execution_count": 11,
   "id": "22b570cc-ef62-418f-a4b1-a0164f8617c0",
   "metadata": {},
   "outputs": [
    {
     "name": "stdout",
     "output_type": "stream",
     "text": [
      "0\n",
      "1\n",
      "2\n",
      "3\n"
     ]
    }
   ],
   "source": [
    "#Break\n",
    "x=0\n",
    "while x<=7:\n",
    "    if x==4:\n",
    "        break\n",
    "    print(x)\n",
    "    x=x+1    "
   ]
  },
  {
   "cell_type": "code",
   "execution_count": 14,
   "id": "e355ef61-7db1-4749-8c4a-a3a0421b0e92",
   "metadata": {},
   "outputs": [
    {
     "name": "stdout",
     "output_type": "stream",
     "text": [
      "1\n",
      "2\n",
      "3\n",
      "5\n",
      "6\n",
      "7\n",
      "8\n"
     ]
    }
   ],
   "source": [
    "#Continue\n",
    "x=0\n",
    "while x<=7:\n",
    "    x=x+1\n",
    "    if x==4:\n",
    "        continue\n",
    "    print(x)"
   ]
  },
  {
   "cell_type": "code",
   "execution_count": null,
   "id": "da795cc2-7145-435c-81c0-a080c6e4cf93",
   "metadata": {},
   "outputs": [],
   "source": []
  }
 ],
 "metadata": {
  "kernelspec": {
   "display_name": "Python 3 (ipykernel)",
   "language": "python",
   "name": "python3"
  },
  "language_info": {
   "codemirror_mode": {
    "name": "ipython",
    "version": 3
   },
   "file_extension": ".py",
   "mimetype": "text/x-python",
   "name": "python",
   "nbconvert_exporter": "python",
   "pygments_lexer": "ipython3",
   "version": "3.11.5"
  }
 },
 "nbformat": 4,
 "nbformat_minor": 5
}
