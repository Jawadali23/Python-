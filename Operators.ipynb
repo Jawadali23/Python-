{
 "cells": [
  {
   "cell_type": "markdown",
   "id": "816cbcf5-1237-48c7-ae00-e5830cab3f74",
   "metadata": {},
   "source": [
    "# Tutorial 4 Python Operators\n"
   ]
  },
  {
   "cell_type": "markdown",
   "id": "c069bc32-248b-42e7-8149-7b5bbb5739f7",
   "metadata": {},
   "source": [
    "## Python Operators\n",
    "#### Logical\n",
    "#### Equality\n",
    "#### Comparison\n",
    "#### Arithmetic\n",
    "    "
   ]
  },
  {
   "cell_type": "markdown",
   "id": "2c688e36-91ac-422f-9d45-a3a155c81102",
   "metadata": {},
   "source": [
    "## Logical"
   ]
  },
  {
   "cell_type": "code",
   "execution_count": 2,
   "id": "11de06d9-8641-433f-8769-2d068bd93aff",
   "metadata": {},
   "outputs": [
    {
     "data": {
      "text/plain": [
       "False"
      ]
     },
     "execution_count": 2,
     "metadata": {},
     "output_type": "execute_result"
    }
   ],
   "source": [
    "True and False"
   ]
  },
  {
   "cell_type": "code",
   "execution_count": 3,
   "id": "a4fb2c85-1665-4784-b9e5-4a6ff4f6e8c0",
   "metadata": {},
   "outputs": [
    {
     "data": {
      "text/plain": [
       "True"
      ]
     },
     "execution_count": 3,
     "metadata": {},
     "output_type": "execute_result"
    }
   ],
   "source": [
    "True or False"
   ]
  },
  {
   "cell_type": "code",
   "execution_count": 4,
   "id": "94c76644-1d38-4ec9-bec0-f3c5822cbfe1",
   "metadata": {},
   "outputs": [
    {
     "data": {
      "text/plain": [
       "True"
      ]
     },
     "execution_count": 4,
     "metadata": {},
     "output_type": "execute_result"
    }
   ],
   "source": [
    "True and True"
   ]
  },
  {
   "cell_type": "code",
   "execution_count": 10,
   "id": "4f585222-a0d7-45ea-9256-396bafe94c60",
   "metadata": {},
   "outputs": [
    {
     "name": "stdin",
     "output_type": "stream",
     "text": [
      "Enter the age 20\n"
     ]
    },
    {
     "name": "stdout",
     "output_type": "stream",
     "text": [
      "Mid age\n"
     ]
    }
   ],
   "source": [
    "age= int(input('Enter the age'))\n",
    "if age>18 and age<=35:\n",
    "    print('Mid age')\n",
    "else:\n",
    "    print('School Age ')\n",
    "    \n",
    "    "
   ]
  },
  {
   "cell_type": "markdown",
   "id": "323c51b6-46b3-42b8-815a-b472e053679d",
   "metadata": {},
   "source": [
    "## Equality \n",
    "##### is \n",
    " *This operator is used for object memory location*\n",
    "##### ==  This operator used for the values of the two variables\n"
   ]
  },
  {
   "cell_type": "code",
   "execution_count": 22,
   "id": "26e6700c-c741-4504-8146-172a26e834a6",
   "metadata": {},
   "outputs": [
    {
     "name": "stdin",
     "output_type": "stream",
     "text": [
      "Enter the age 18\n"
     ]
    },
    {
     "name": "stdout",
     "output_type": "stream",
     "text": [
      "You are in the teenager age\n"
     ]
    }
   ],
   "source": [
    "age = int(input('Enter the age'))\n",
    "if age==18:\n",
    "    print('You are in the teenager age')\n"
   ]
  },
  {
   "cell_type": "code",
   "execution_count": 23,
   "id": "4860702b-d63a-4470-9e2b-64d60d4ffc79",
   "metadata": {},
   "outputs": [],
   "source": [
    "a='Jawad'\n",
    "b= 'Jawad'"
   ]
  },
  {
   "cell_type": "code",
   "execution_count": 24,
   "id": "dd266d08-97b6-468e-87b1-df0621bcfdfb",
   "metadata": {},
   "outputs": [
    {
     "data": {
      "text/plain": [
       "True"
      ]
     },
     "execution_count": 24,
     "metadata": {},
     "output_type": "execute_result"
    }
   ],
   "source": [
    "a is b"
   ]
  },
  {
   "cell_type": "code",
   "execution_count": 25,
   "id": "a7d1ae55-c42b-430a-a96a-03399e9d84f4",
   "metadata": {},
   "outputs": [
    {
     "name": "stdout",
     "output_type": "stream",
     "text": [
      "2258493591536\n"
     ]
    }
   ],
   "source": [
    "print(id(a))"
   ]
  },
  {
   "cell_type": "code",
   "execution_count": 26,
   "id": "2dda4281-9d7a-45e1-9d84-52934ee1e2b2",
   "metadata": {},
   "outputs": [
    {
     "name": "stdout",
     "output_type": "stream",
     "text": [
      "2258493591536\n"
     ]
    }
   ],
   "source": [
    "print(id(b))"
   ]
  },
  {
   "cell_type": "code",
   "execution_count": 27,
   "id": "4855d19a-1f5a-4d25-8961-a29a25f94b2c",
   "metadata": {},
   "outputs": [
    {
     "name": "stdout",
     "output_type": "stream",
     "text": [
      "2258493679616\n",
      "2258493666624\n"
     ]
    }
   ],
   "source": [
    "lst=[1,2,3]\n",
    "lst1=[1,2,3]\n",
    "print(id(lst))\n",
    "print(id(lst1))\n"
   ]
  },
  {
   "cell_type": "code",
   "execution_count": 28,
   "id": "9693dd8c-98f8-49da-bfb7-646a5501984f",
   "metadata": {},
   "outputs": [
    {
     "data": {
      "text/plain": [
       "True"
      ]
     },
     "execution_count": 28,
     "metadata": {},
     "output_type": "execute_result"
    }
   ],
   "source": [
    "lst == lst1"
   ]
  },
  {
   "cell_type": "code",
   "execution_count": 29,
   "id": "86df5c49-c5c9-4963-a4c5-bd0b27bd648f",
   "metadata": {},
   "outputs": [
    {
     "data": {
      "text/plain": [
       "False"
      ]
     },
     "execution_count": 29,
     "metadata": {},
     "output_type": "execute_result"
    }
   ],
   "source": [
    "lst is lst1"
   ]
  },
  {
   "cell_type": "code",
   "execution_count": 30,
   "id": "87fe88b0-eb71-4078-ab01-19cd83b2767b",
   "metadata": {},
   "outputs": [
    {
     "data": {
      "text/plain": [
       "True"
      ]
     },
     "execution_count": 30,
     "metadata": {},
     "output_type": "execute_result"
    }
   ],
   "source": [
    "a is b"
   ]
  },
  {
   "cell_type": "code",
   "execution_count": 31,
   "id": "6d96740c-a2af-4b5e-9c9a-65166e381ffa",
   "metadata": {},
   "outputs": [
    {
     "data": {
      "text/plain": [
       "True"
      ]
     },
     "execution_count": 31,
     "metadata": {},
     "output_type": "execute_result"
    }
   ],
   "source": [
    "'Jawad' != 'JawadAli'"
   ]
  },
  {
   "cell_type": "markdown",
   "id": "4f870219-9012-4557-a0bc-267f9b089647",
   "metadata": {},
   "source": [
    "## Comparison Operator"
   ]
  },
  {
   "cell_type": "code",
   "execution_count": 40,
   "id": "bdf911bf-484e-4fe5-9aa3-49ecaa37a91b",
   "metadata": {},
   "outputs": [
    {
     "name": "stdin",
     "output_type": "stream",
     "text": [
      "Enter the marks 60\n"
     ]
    },
    {
     "name": "stdout",
     "output_type": "stream",
     "text": [
      "Pass\n",
      "First\n"
     ]
    }
   ],
   "source": [
    "marks =float(input('Enter the marks'))\n",
    "\n",
    "if marks>= 35:\n",
    "    print('Pass')\n",
    "    if marks>=50 and marks<=70:\n",
    "        print('First')\n",
    "elif marks<35:\n",
    "    print('Fail')\n",
    "    "
   ]
  },
  {
   "cell_type": "markdown",
   "id": "a9a84592-312f-46ac-8e74-f75bc9fd82ab",
   "metadata": {},
   "source": [
    "## Arithmetic Operators"
   ]
  },
  {
   "cell_type": "code",
   "execution_count": 42,
   "id": "0bbad2f3-f59a-43c8-8573-c467073d5a3b",
   "metadata": {},
   "outputs": [
    {
     "data": {
      "text/plain": [
       "92"
      ]
     },
     "execution_count": 42,
     "metadata": {},
     "output_type": "execute_result"
    }
   ],
   "source": [
    "47+45"
   ]
  },
  {
   "cell_type": "code",
   "execution_count": 43,
   "id": "a8e77ba9-9748-49c4-8ff6-607a2c83041c",
   "metadata": {},
   "outputs": [
    {
     "data": {
      "text/plain": [
       "30"
      ]
     },
     "execution_count": 43,
     "metadata": {},
     "output_type": "execute_result"
    }
   ],
   "source": [
    "75-45\n"
   ]
  },
  {
   "cell_type": "code",
   "execution_count": 44,
   "id": "9f2fbead-e901-442b-b2d5-cfb8c2630cbb",
   "metadata": {},
   "outputs": [
    {
     "data": {
      "text/plain": [
       "225"
      ]
     },
     "execution_count": 44,
     "metadata": {},
     "output_type": "execute_result"
    }
   ],
   "source": [
    "45*5"
   ]
  },
  {
   "cell_type": "code",
   "execution_count": 45,
   "id": "6ee2f18e-f319-420f-a09a-6f93525d4125",
   "metadata": {},
   "outputs": [
    {
     "data": {
      "text/plain": [
       "1.8048780487804879"
      ]
     },
     "execution_count": 45,
     "metadata": {},
     "output_type": "execute_result"
    }
   ],
   "source": [
    "74/41"
   ]
  },
  {
   "cell_type": "code",
   "execution_count": 46,
   "id": "103e2c34-4c93-464f-8f0b-bb407626544a",
   "metadata": {},
   "outputs": [
    {
     "data": {
      "text/plain": [
       "1"
      ]
     },
     "execution_count": 46,
     "metadata": {},
     "output_type": "execute_result"
    }
   ],
   "source": [
    "74//41"
   ]
  },
  {
   "cell_type": "code",
   "execution_count": 47,
   "id": "8a29b56f-61b2-4505-8b79-a49b8c76235d",
   "metadata": {},
   "outputs": [
    {
     "data": {
      "text/plain": [
       "33"
      ]
     },
     "execution_count": 47,
     "metadata": {},
     "output_type": "execute_result"
    }
   ],
   "source": [
    "78%45"
   ]
  },
  {
   "cell_type": "code",
   "execution_count": null,
   "id": "108f7960-f6b9-40c6-a927-850ce0a4d6f2",
   "metadata": {},
   "outputs": [],
   "source": []
  }
 ],
 "metadata": {
  "kernelspec": {
   "display_name": "Python 3 (ipykernel)",
   "language": "python",
   "name": "python3"
  },
  "language_info": {
   "codemirror_mode": {
    "name": "ipython",
    "version": 3
   },
   "file_extension": ".py",
   "mimetype": "text/x-python",
   "name": "python",
   "nbconvert_exporter": "python",
   "pygments_lexer": "ipython3",
   "version": "3.11.5"
  }
 },
 "nbformat": 4,
 "nbformat_minor": 5
}
