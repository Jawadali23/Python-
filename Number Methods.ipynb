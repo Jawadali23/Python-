{
 "cells": [
  {
   "cell_type": "markdown",
   "id": "85be48fc-38de-4679-a617-0ce2b4cfac2b",
   "metadata": {},
   "source": [
    "# Tutorial 5 Python Number Methods\n"
   ]
  },
  {
   "cell_type": "markdown",
   "id": "1de5d0f6-95e5-442a-a6a6-b550962552d0",
   "metadata": {},
   "source": [
    "## Absolute value method"
   ]
  },
  {
   "cell_type": "code",
   "execution_count": 1,
   "id": "05c8aeeb-203e-4b8c-ae0b-e65dea0875f8",
   "metadata": {},
   "outputs": [
    {
     "data": {
      "text/plain": [
       "3.277"
      ]
     },
     "execution_count": 1,
     "metadata": {},
     "output_type": "execute_result"
    }
   ],
   "source": [
    "abs(3.277)"
   ]
  },
  {
   "cell_type": "code",
   "execution_count": 2,
   "id": "634b83b0-0a58-4ed7-95ce-8a8f7a75b1df",
   "metadata": {},
   "outputs": [
    {
     "data": {
      "text/plain": [
       "565.5548786"
      ]
     },
     "execution_count": 2,
     "metadata": {},
     "output_type": "execute_result"
    }
   ],
   "source": [
    "abs(565.5548786)"
   ]
  },
  {
   "cell_type": "code",
   "execution_count": 3,
   "id": "b073b06e-9786-4edf-8818-095dfd53f0d0",
   "metadata": {},
   "outputs": [
    {
     "data": {
      "text/plain": [
       "48.85"
      ]
     },
     "execution_count": 3,
     "metadata": {},
     "output_type": "execute_result"
    }
   ],
   "source": [
    "abs(48.85)"
   ]
  },
  {
   "cell_type": "code",
   "execution_count": 4,
   "id": "a84ee12c-53cb-46ee-9cfe-1361497bb7ff",
   "metadata": {},
   "outputs": [
    {
     "data": {
      "text/plain": [
       "58.85"
      ]
     },
     "execution_count": 4,
     "metadata": {},
     "output_type": "execute_result"
    }
   ],
   "source": [
    "abs(-58.85)"
   ]
  },
  {
   "cell_type": "code",
   "execution_count": 5,
   "id": "34212831-b803-4d86-a484-08b3f85616c9",
   "metadata": {},
   "outputs": [
    {
     "data": {
      "text/plain": [
       "6.800735254367722"
      ]
     },
     "execution_count": 5,
     "metadata": {},
     "output_type": "execute_result"
    }
   ],
   "source": [
    "abs(4.0-5.5j)"
   ]
  },
  {
   "cell_type": "code",
   "execution_count": 6,
   "id": "9e445875-7aa7-4b23-8865-825443a54990",
   "metadata": {},
   "outputs": [
    {
     "data": {
      "text/plain": [
       "float"
      ]
     },
     "execution_count": 6,
     "metadata": {},
     "output_type": "execute_result"
    }
   ],
   "source": [
    "type(abs(7.0-5j))"
   ]
  },
  {
   "cell_type": "code",
   "execution_count": 7,
   "id": "dd282445-a353-4624-9e77-c7332d8e3ded",
   "metadata": {},
   "outputs": [
    {
     "data": {
      "text/plain": [
       "int"
      ]
     },
     "execution_count": 7,
     "metadata": {},
     "output_type": "execute_result"
    }
   ],
   "source": [
    "type(abs(452))"
   ]
  },
  {
   "cell_type": "markdown",
   "id": "98f47f46-3fa3-43f0-a735-466994aef012",
   "metadata": {},
   "source": [
    "## Ceil"
   ]
  },
  {
   "cell_type": "code",
   "execution_count": 8,
   "id": "73df59d9-35be-4cd7-976b-2325dc23035e",
   "metadata": {},
   "outputs": [],
   "source": [
    "import math"
   ]
  },
  {
   "cell_type": "code",
   "execution_count": 10,
   "id": "97dd5c71-4f45-4bb9-8e24-5cde473b4778",
   "metadata": {},
   "outputs": [
    {
     "data": {
      "text/plain": [
       "586"
      ]
     },
     "execution_count": 10,
     "metadata": {},
     "output_type": "execute_result"
    }
   ],
   "source": [
    "math.ceil(585.54)\n"
   ]
  },
  {
   "cell_type": "code",
   "execution_count": 11,
   "id": "c27dd91f-62a6-45d6-8819-c20e60be9df8",
   "metadata": {},
   "outputs": [
    {
     "data": {
      "text/plain": [
       "-44"
      ]
     },
     "execution_count": 11,
     "metadata": {},
     "output_type": "execute_result"
    }
   ],
   "source": [
    "math.ceil(-44.54)"
   ]
  },
  {
   "cell_type": "code",
   "execution_count": 12,
   "id": "0ee9d223-9a9c-41a7-8b86-cc5e25186e16",
   "metadata": {},
   "outputs": [
    {
     "data": {
      "text/plain": [
       "-4"
      ]
     },
     "execution_count": 12,
     "metadata": {},
     "output_type": "execute_result"
    }
   ],
   "source": [
    "math.ceil(-4.2)"
   ]
  },
  {
   "cell_type": "code",
   "execution_count": 13,
   "id": "fdcbe183-4988-4578-9d25-118ceecabd2f",
   "metadata": {},
   "outputs": [
    {
     "data": {
      "text/plain": [
       "4"
      ]
     },
     "execution_count": 13,
     "metadata": {},
     "output_type": "execute_result"
    }
   ],
   "source": [
    "math.ceil(3.27758)"
   ]
  },
  {
   "cell_type": "markdown",
   "id": "039c723e-0f7d-4cd1-8521-96596e83c720",
   "metadata": {},
   "source": [
    "## Floor"
   ]
  },
  {
   "cell_type": "code",
   "execution_count": 14,
   "id": "c8c22715-216a-40a2-80e2-7775ee149f69",
   "metadata": {},
   "outputs": [
    {
     "data": {
      "text/plain": [
       "45"
      ]
     },
     "execution_count": 14,
     "metadata": {},
     "output_type": "execute_result"
    }
   ],
   "source": [
    "math.floor(45.1)"
   ]
  },
  {
   "cell_type": "code",
   "execution_count": 15,
   "id": "21df3c87-2e1a-4918-9291-ae65713cfb86",
   "metadata": {},
   "outputs": [
    {
     "data": {
      "text/plain": [
       "-55"
      ]
     },
     "execution_count": 15,
     "metadata": {},
     "output_type": "execute_result"
    }
   ],
   "source": [
    "math.floor(-54.9)"
   ]
  },
  {
   "cell_type": "code",
   "execution_count": 16,
   "id": "bd31e398-06d0-4593-a176-1144535788eb",
   "metadata": {},
   "outputs": [
    {
     "data": {
      "text/plain": [
       "-57"
      ]
     },
     "execution_count": 16,
     "metadata": {},
     "output_type": "execute_result"
    }
   ],
   "source": [
    "math.floor(-56.9)"
   ]
  },
  {
   "cell_type": "markdown",
   "id": "fdde85af-075a-430b-b480-c731f57b9168",
   "metadata": {},
   "source": [
    "## Exponential Value"
   ]
  },
  {
   "cell_type": "code",
   "execution_count": 18,
   "id": "4b6778c9-292a-4e1a-afdf-43e0f2573dd2",
   "metadata": {},
   "outputs": [
    {
     "data": {
      "text/plain": [
       "22026.465794806718"
      ]
     },
     "execution_count": 18,
     "metadata": {},
     "output_type": "execute_result"
    }
   ],
   "source": [
    "math.exp(10)"
   ]
  },
  {
   "cell_type": "code",
   "execution_count": 19,
   "id": "f83c7a7a-43b6-45d2-b157-39aee7df09e5",
   "metadata": {},
   "outputs": [
    {
     "data": {
      "text/plain": [
       "0.0009118819655545162"
      ]
     },
     "execution_count": 19,
     "metadata": {},
     "output_type": "execute_result"
    }
   ],
   "source": [
    "math.exp(-7)"
   ]
  },
  {
   "cell_type": "markdown",
   "id": "94380beb-522a-4710-8e63-9a6397896235",
   "metadata": {},
   "source": [
    "## Fabs"
   ]
  },
  {
   "cell_type": "code",
   "execution_count": 21,
   "id": "fccd86c2-e0e7-4492-86a8-f21065c4dd89",
   "metadata": {},
   "outputs": [
    {
     "data": {
      "text/plain": [
       "45.525"
      ]
     },
     "execution_count": 21,
     "metadata": {},
     "output_type": "execute_result"
    }
   ],
   "source": [
    "math.fabs(45.525)"
   ]
  },
  {
   "cell_type": "code",
   "execution_count": 22,
   "id": "9bb3313f-9ee3-435a-9ff7-210b08cfd014",
   "metadata": {},
   "outputs": [
    {
     "data": {
      "text/plain": [
       "785.42"
      ]
     },
     "execution_count": 22,
     "metadata": {},
     "output_type": "execute_result"
    }
   ],
   "source": [
    "math.fabs(785.42)"
   ]
  },
  {
   "cell_type": "code",
   "execution_count": 23,
   "id": "c746f0d3-ce7f-4473-9906-2db87cbc62c2",
   "metadata": {},
   "outputs": [
    {
     "data": {
      "text/plain": [
       "7850.5541"
      ]
     },
     "execution_count": 23,
     "metadata": {},
     "output_type": "execute_result"
    }
   ],
   "source": [
    "math.fabs(-7850.5541)"
   ]
  },
  {
   "cell_type": "markdown",
   "id": "3f3ece9f-f248-4788-b568-952c3be475d0",
   "metadata": {},
   "source": [
    "## Log(x)"
   ]
  },
  {
   "cell_type": "code",
   "execution_count": 24,
   "id": "30711fea-9e12-4e26-b820-7684f5b7cf8f",
   "metadata": {},
   "outputs": [
    {
     "data": {
      "text/plain": [
       "2.995732273553991"
      ]
     },
     "execution_count": 24,
     "metadata": {},
     "output_type": "execute_result"
    }
   ],
   "source": [
    "math.log(20)"
   ]
  },
  {
   "cell_type": "code",
   "execution_count": 25,
   "id": "25266e8a-5e03-462f-a314-31cd9dbfa94d",
   "metadata": {},
   "outputs": [
    {
     "data": {
      "text/plain": [
       "1.6532125137753437"
      ]
     },
     "execution_count": 25,
     "metadata": {},
     "output_type": "execute_result"
    }
   ],
   "source": [
    "math.log10(45)"
   ]
  },
  {
   "cell_type": "code",
   "execution_count": 26,
   "id": "224ed338-2b6f-412a-82fc-9b322fbc4862",
   "metadata": {},
   "outputs": [
    {
     "data": {
      "text/plain": [
       "1.0877814178095424"
      ]
     },
     "execution_count": 26,
     "metadata": {},
     "output_type": "execute_result"
    }
   ],
   "source": [
    "math.log10(12.24)"
   ]
  },
  {
   "cell_type": "code",
   "execution_count": 27,
   "id": "258421ad-dc88-4ae1-be63-a4f17609587a",
   "metadata": {},
   "outputs": [
    {
     "data": {
      "text/plain": [
       "1.0"
      ]
     },
     "execution_count": 27,
     "metadata": {},
     "output_type": "execute_result"
    }
   ],
   "source": [
    "math.log10(10)"
   ]
  },
  {
   "cell_type": "code",
   "execution_count": 34,
   "id": "8d97490f-1142-4bd2-a1df-69958c7c2325",
   "metadata": {},
   "outputs": [
    {
     "data": {
      "text/plain": [
       "0.0"
      ]
     },
     "execution_count": 34,
     "metadata": {},
     "output_type": "execute_result"
    }
   ],
   "source": [
    "math.log10(1)"
   ]
  },
  {
   "cell_type": "markdown",
   "id": "33d52446-fcba-42db-878f-c161fff9f4a9",
   "metadata": {},
   "source": [
    "## Max()"
   ]
  },
  {
   "cell_type": "code",
   "execution_count": 35,
   "id": "542b94cd-b519-4c78-87be-321323efcb06",
   "metadata": {},
   "outputs": [
    {
     "data": {
      "text/plain": [
       "60"
      ]
     },
     "execution_count": 35,
     "metadata": {},
     "output_type": "execute_result"
    }
   ],
   "source": [
    "max(10,20,30,40,50,60)"
   ]
  },
  {
   "cell_type": "code",
   "execution_count": 36,
   "id": "46c57dd5-9bff-449d-aeeb-bd6bf3c24875",
   "metadata": {},
   "outputs": [
    {
     "data": {
      "text/plain": [
       "74"
      ]
     },
     "execution_count": 36,
     "metadata": {},
     "output_type": "execute_result"
    }
   ],
   "source": [
    "max(-48,65,74)"
   ]
  },
  {
   "cell_type": "markdown",
   "id": "ea40a4ac-c8b6-4f66-a3a6-3097889feac4",
   "metadata": {},
   "source": [
    "## Min()"
   ]
  },
  {
   "cell_type": "code",
   "execution_count": 37,
   "id": "c932ad0b-bcfc-45c6-bd3d-5b4230310f1a",
   "metadata": {},
   "outputs": [
    {
     "data": {
      "text/plain": [
       "12"
      ]
     },
     "execution_count": 37,
     "metadata": {},
     "output_type": "execute_result"
    }
   ],
   "source": [
    "min(100,12,15,54,15,158,2523)"
   ]
  },
  {
   "cell_type": "code",
   "execution_count": 38,
   "id": "f020297c-f6a2-4eba-b1dc-dfdf8a7822aa",
   "metadata": {},
   "outputs": [
    {
     "data": {
      "text/plain": [
       "-541"
      ]
     },
     "execution_count": 38,
     "metadata": {},
     "output_type": "execute_result"
    }
   ],
   "source": [
    "min(-41,-541)"
   ]
  },
  {
   "cell_type": "markdown",
   "id": "ebedd399-2538-45fe-afc5-e0ebc8c7b934",
   "metadata": {},
   "source": [
    "## Power"
   ]
  },
  {
   "cell_type": "code",
   "execution_count": 41,
   "id": "687230f1-199d-477e-bfb4-70c4a7d95ca5",
   "metadata": {},
   "outputs": [
    {
     "data": {
      "text/plain": [
       "32.0"
      ]
     },
     "execution_count": 41,
     "metadata": {},
     "output_type": "execute_result"
    }
   ],
   "source": [
    "import math\n",
    "math.pow(2,5)"
   ]
  },
  {
   "cell_type": "code",
   "execution_count": 42,
   "id": "254d5ba0-2efe-41c2-9458-af601dfcc2be",
   "metadata": {},
   "outputs": [
    {
     "data": {
      "text/plain": [
       "3125.0"
      ]
     },
     "execution_count": 42,
     "metadata": {},
     "output_type": "execute_result"
    }
   ],
   "source": [
    "math.pow(5,5)"
   ]
  },
  {
   "cell_type": "code",
   "execution_count": 43,
   "id": "dfdf59a7-e634-4d80-b8ff-ff0253153eab",
   "metadata": {},
   "outputs": [
    {
     "data": {
      "text/plain": [
       "512.0"
      ]
     },
     "execution_count": 43,
     "metadata": {},
     "output_type": "execute_result"
    }
   ],
   "source": [
    "math.pow(2,9)"
   ]
  },
  {
   "cell_type": "code",
   "execution_count": 44,
   "id": "405b7e66-9bcb-4dfa-a8cf-939fdbd0afec",
   "metadata": {},
   "outputs": [
    {
     "data": {
      "text/plain": [
       "16.0"
      ]
     },
     "execution_count": 44,
     "metadata": {},
     "output_type": "execute_result"
    }
   ],
   "source": [
    "math.pow(4,2)"
   ]
  },
  {
   "cell_type": "markdown",
   "id": "76ac0c06-7e20-485b-add4-12d9a83de3ac",
   "metadata": {},
   "source": [
    "## Sqrt()"
   ]
  },
  {
   "cell_type": "code",
   "execution_count": 45,
   "id": "6cb9c66a-9658-49a9-82ff-198ea01b6e6e",
   "metadata": {},
   "outputs": [
    {
     "data": {
      "text/plain": [
       "4.0"
      ]
     },
     "execution_count": 45,
     "metadata": {},
     "output_type": "execute_result"
    }
   ],
   "source": [
    "math.sqrt(16)"
   ]
  },
  {
   "cell_type": "code",
   "execution_count": 47,
   "id": "4a26b220-6daa-4520-9a27-146041b8ce10",
   "metadata": {},
   "outputs": [
    {
     "data": {
      "text/plain": [
       "3.0"
      ]
     },
     "execution_count": 47,
     "metadata": {},
     "output_type": "execute_result"
    }
   ],
   "source": [
    "math.sqrt(9)"
   ]
  },
  {
   "cell_type": "code",
   "execution_count": 48,
   "id": "ccfe13b1-0014-4175-97c6-f070ca1a3a75",
   "metadata": {},
   "outputs": [
    {
     "data": {
      "text/plain": [
       "10.04987562112089"
      ]
     },
     "execution_count": 48,
     "metadata": {},
     "output_type": "execute_result"
    }
   ],
   "source": [
    "math.sqrt(101)"
   ]
  },
  {
   "cell_type": "markdown",
   "id": "08e1214d-49db-4214-834e-54618ebf8efd",
   "metadata": {},
   "source": [
    "## Trignometric Functions"
   ]
  },
  {
   "cell_type": "code",
   "execution_count": 49,
   "id": "cddae774-f1f1-44bd-bd14-40da90752d4c",
   "metadata": {},
   "outputs": [
    {
     "data": {
      "text/plain": [
       "0.8939966636005579"
      ]
     },
     "execution_count": 49,
     "metadata": {},
     "output_type": "execute_result"
    }
   ],
   "source": [
    "math.sin(90)"
   ]
  },
  {
   "cell_type": "code",
   "execution_count": 51,
   "id": "a0f81833-5a99-4435-b3eb-94fd61e5b3db",
   "metadata": {},
   "outputs": [
    {
     "data": {
      "text/plain": [
       "0.8939966636005579"
      ]
     },
     "execution_count": 51,
     "metadata": {},
     "output_type": "execute_result"
    }
   ],
   "source": [
    "math.sin(90)"
   ]
  },
  {
   "cell_type": "code",
   "execution_count": 52,
   "id": "c4fa37dc-3d81-4584-bc84-1d596fb0a57d",
   "metadata": {},
   "outputs": [
    {
     "data": {
      "text/plain": [
       "-0.4480736161291701"
      ]
     },
     "execution_count": 52,
     "metadata": {},
     "output_type": "execute_result"
    }
   ],
   "source": [
    "math.cos(90)"
   ]
  },
  {
   "cell_type": "code",
   "execution_count": 53,
   "id": "4b601024-6dc5-4d31-a4fd-5b66e865cca8",
   "metadata": {},
   "outputs": [
    {
     "data": {
      "text/plain": [
       "1.0"
      ]
     },
     "execution_count": 53,
     "metadata": {},
     "output_type": "execute_result"
    }
   ],
   "source": [
    "math.cos(0)"
   ]
  },
  {
   "cell_type": "code",
   "execution_count": 54,
   "id": "c24da215-3f13-4b3c-9071-aed0111a6eb6",
   "metadata": {},
   "outputs": [
    {
     "data": {
      "text/plain": [
       "0.0"
      ]
     },
     "execution_count": 54,
     "metadata": {},
     "output_type": "execute_result"
    }
   ],
   "source": [
    "math.sin(0)"
   ]
  },
  {
   "cell_type": "code",
   "execution_count": 55,
   "id": "9dc2b556-aac9-4cc1-aac3-c5a62991c579",
   "metadata": {},
   "outputs": [
    {
     "data": {
      "text/plain": [
       "-1.995200412208242"
      ]
     },
     "execution_count": 55,
     "metadata": {},
     "output_type": "execute_result"
    }
   ],
   "source": [
    "math.tan(90)"
   ]
  },
  {
   "cell_type": "code",
   "execution_count": 56,
   "id": "90766f64-f550-4c8b-b18f-0c76ea6e34c8",
   "metadata": {},
   "outputs": [
    {
     "data": {
      "text/plain": [
       "0.0"
      ]
     },
     "execution_count": 56,
     "metadata": {},
     "output_type": "execute_result"
    }
   ],
   "source": [
    "math.tan(0)"
   ]
  },
  {
   "cell_type": "code",
   "execution_count": 58,
   "id": "ace1bbef-f93b-40ca-bda2-ac94e594f4f6",
   "metadata": {},
   "outputs": [
    {
     "data": {
      "text/plain": [
       "-0.4480736161291701"
      ]
     },
     "execution_count": 58,
     "metadata": {},
     "output_type": "execute_result"
    }
   ],
   "source": [
    "math.cos(90)"
   ]
  },
  {
   "cell_type": "code",
   "execution_count": 59,
   "id": "428eb3d5-4808-4c59-829a-53319393421f",
   "metadata": {},
   "outputs": [
    {
     "data": {
      "text/plain": [
       "-0.8011526357338304"
      ]
     },
     "execution_count": 59,
     "metadata": {},
     "output_type": "execute_result"
    }
   ],
   "source": [
    "math.sin(180)"
   ]
  },
  {
   "cell_type": "code",
   "execution_count": 60,
   "id": "e0e25f8f-9428-407d-b205-c1d7eb60cee8",
   "metadata": {},
   "outputs": [
    {
     "data": {
      "text/plain": [
       "-0.1760459464712114"
      ]
     },
     "execution_count": 60,
     "metadata": {},
     "output_type": "execute_result"
    }
   ],
   "source": [
    "math.sin(270)"
   ]
  },
  {
   "cell_type": "code",
   "execution_count": 61,
   "id": "409a273a-736f-47f4-9246-081ebd5302f5",
   "metadata": {},
   "outputs": [
    {
     "data": {
      "text/plain": [
       "1.6197751905438615"
      ]
     },
     "execution_count": 61,
     "metadata": {},
     "output_type": "execute_result"
    }
   ],
   "source": [
    "math.tan(45)"
   ]
  },
  {
   "cell_type": "markdown",
   "id": "1cc9b105-31f0-403f-b8e8-4e1e5ef9c862",
   "metadata": {},
   "source": [
    "## Hypothesis\n",
    " sqrt(a^2 +b^2)"
   ]
  },
  {
   "cell_type": "code",
   "execution_count": 62,
   "id": "b621dc6c-ad10-49bf-82fc-6a6b9728ea67",
   "metadata": {},
   "outputs": [
    {
     "data": {
      "text/plain": [
       "3.605551275463989"
      ]
     },
     "execution_count": 62,
     "metadata": {},
     "output_type": "execute_result"
    }
   ],
   "source": [
    "math.hypot(2,3)"
   ]
  },
  {
   "cell_type": "markdown",
   "id": "b6308640-4295-42c4-869d-a474a7d25405",
   "metadata": {},
   "source": [
    "## Modf()\n",
    "*split the number into fractional and integer parts.*"
   ]
  },
  {
   "cell_type": "code",
   "execution_count": 63,
   "id": "18310c2f-212b-48cd-9e4b-911ebf0dd878",
   "metadata": {},
   "outputs": [
    {
     "data": {
      "text/plain": [
       "(0.0, 5.0)"
      ]
     },
     "execution_count": 63,
     "metadata": {},
     "output_type": "execute_result"
    }
   ],
   "source": [
    "math.modf(5.0)"
   ]
  },
  {
   "cell_type": "code",
   "execution_count": 64,
   "id": "4984adfb-65d9-417b-8138-316a30329f9d",
   "metadata": {},
   "outputs": [
    {
     "data": {
      "text/plain": [
       "(0.17999999999999972, 45.0)"
      ]
     },
     "execution_count": 64,
     "metadata": {},
     "output_type": "execute_result"
    }
   ],
   "source": [
    "math.modf(45.18)"
   ]
  },
  {
   "cell_type": "code",
   "execution_count": 65,
   "id": "f0c463c2-6a1c-4547-97c1-e90fbb433899",
   "metadata": {},
   "outputs": [
    {
     "data": {
      "text/plain": [
       "(-0.14999999999999858, -40.0)"
      ]
     },
     "execution_count": 65,
     "metadata": {},
     "output_type": "execute_result"
    }
   ],
   "source": [
    "math.modf(-40.15)"
   ]
  },
  {
   "cell_type": "markdown",
   "id": "500c1ea4-33d6-4c3e-92db-b1635750d720",
   "metadata": {},
   "source": [
    "## Program to check max of the 3 number."
   ]
  },
  {
   "cell_type": "code",
   "execution_count": 71,
   "id": "96813bd5-d848-4b49-90a1-4cac57bb63d2",
   "metadata": {},
   "outputs": [
    {
     "data": {
      "text/plain": [
       "12"
      ]
     },
     "execution_count": 71,
     "metadata": {},
     "output_type": "execute_result"
    }
   ],
   "source": [
    "max(3,4,12)"
   ]
  },
  {
   "cell_type": "code",
   "execution_count": null,
   "id": "dc173789-bdcf-4f3f-a20e-a2008e27795a",
   "metadata": {},
   "outputs": [],
   "source": []
  }
 ],
 "metadata": {
  "kernelspec": {
   "display_name": "Python 3 (ipykernel)",
   "language": "python",
   "name": "python3"
  },
  "language_info": {
   "codemirror_mode": {
    "name": "ipython",
    "version": 3
   },
   "file_extension": ".py",
   "mimetype": "text/x-python",
   "name": "python",
   "nbconvert_exporter": "python",
   "pygments_lexer": "ipython3",
   "version": "3.11.5"
  }
 },
 "nbformat": 4,
 "nbformat_minor": 5
}
