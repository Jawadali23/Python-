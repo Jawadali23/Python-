{
 "cells": [
  {
   "cell_type": "markdown",
   "id": "e067508d-e1b5-4b99-bf10-8077c303e40e",
   "metadata": {},
   "source": [
    "# Lambda Function in Python"
   ]
  },
  {
   "cell_type": "markdown",
   "id": "5d648d23-03cf-405d-a410-de9a02608feb",
   "metadata": {},
   "source": [
    "#### In python, a lambda function (also called as anonymous function) is a small, anonymous function that can be defined in a single line of code without a name. it is useful when we need a simple function that we don't want to define explicitly using the def keyword. The basic syntax for a lambda function in Python is:"
   ]
  },
  {
   "cell_type": "markdown",
   "id": "4e5c6722-20aa-41b6-8473-ea60b43245f7",
   "metadata": {},
   "source": [
    "### lambda arguments: expression"
   ]
  },
  {
   "cell_type": "markdown",
   "id": "7548bdca-c515-4f9d-836b-66aae2b785d9",
   "metadata": {},
   "source": [
    "#### Here,arguments refer to the input arguments for the function and expression is a single expression that gets evaluated and returned as the result of the function.The result of the expression is automatically returned by the lambda function, so there's no need to use the return statement."
   ]
  },
  {
   "cell_type": "code",
   "execution_count": 1,
   "id": "c32493b7-9be4-462a-8cbe-5f3ea0cd7c81",
   "metadata": {},
   "outputs": [
    {
     "data": {
      "text/plain": [
       "<function __main__.<lambda>(x, y)>"
      ]
     },
     "execution_count": 1,
     "metadata": {},
     "output_type": "execute_result"
    }
   ],
   "source": [
    "f=lambda x,y: x+y\n",
    "f"
   ]
  },
  {
   "cell_type": "code",
   "execution_count": 2,
   "id": "0eb1327c-0614-4b99-96b6-da8a3b97a39e",
   "metadata": {},
   "outputs": [
    {
     "data": {
      "text/plain": [
       "11"
      ]
     },
     "execution_count": 2,
     "metadata": {},
     "output_type": "execute_result"
    }
   ],
   "source": [
    "f(5,6)"
   ]
  },
  {
   "cell_type": "code",
   "execution_count": 3,
   "id": "1449d5a0-08a8-408e-a88f-737b06d5f360",
   "metadata": {},
   "outputs": [
    {
     "data": {
      "text/plain": [
       "25"
      ]
     },
     "execution_count": 3,
     "metadata": {},
     "output_type": "execute_result"
    }
   ],
   "source": [
    "# simples examples\n",
    "multiply=lambda x,y: x*y\n",
    "multiply(5,5)"
   ]
  },
  {
   "cell_type": "code",
   "execution_count": 4,
   "id": "2435338b-1666-482f-9ad6-396395b9c8e6",
   "metadata": {},
   "outputs": [
    {
     "data": {
      "text/plain": [
       "9"
      ]
     },
     "execution_count": 4,
     "metadata": {},
     "output_type": "execute_result"
    }
   ],
   "source": [
    "# Return the length of a string\n",
    "string_length= lambda s:len(s)\n",
    "string_length('Jawad Ali')"
   ]
  },
  {
   "cell_type": "code",
   "execution_count": 5,
   "id": "112155c3-ea35-4e99-8c31-4d0163325ae5",
   "metadata": {},
   "outputs": [
    {
     "name": "stdout",
     "output_type": "stream",
     "text": [
      "[1, 4, 9, 16, 25, 36]\n"
     ]
    }
   ],
   "source": [
    "## Convert a list of integers to their corresponding square values;\n",
    "numbers=[1,2,3,4,5,6]\n",
    "squares= list(map(lambda x:x**2 ,numbers))\n",
    "print(squares)"
   ]
  },
  {
   "cell_type": "code",
   "execution_count": 6,
   "id": "dc0b32fe-73ea-4140-863f-495b329a9b37",
   "metadata": {},
   "outputs": [
    {
     "data": {
      "text/plain": [
       "[2, 4, 6]"
      ]
     },
     "execution_count": 6,
     "metadata": {},
     "output_type": "execute_result"
    }
   ],
   "source": [
    "## Filter out even numbers from a list;\n",
    "numbers=[1,2,3,4,5,6]\n",
    "list(filter(lambda x:x%2==0,numbers))\n"
   ]
  },
  {
   "cell_type": "code",
   "execution_count": 7,
   "id": "458a3f73-f694-4de5-8b55-c2f7eb5a2f8e",
   "metadata": {},
   "outputs": [
    {
     "data": {
      "text/plain": [
       "['date', 'apple', 'banana', 'cherry', 'elderberry']"
      ]
     },
     "execution_count": 7,
     "metadata": {},
     "output_type": "execute_result"
    }
   ],
   "source": [
    "# Sort a list of strings based on their alphabetic characters in length\n",
    "fruits=['apple','banana','cherry','date','elderberry']\n",
    "sorted(fruits,key=lambda x:len(x))\n"
   ]
  },
  {
   "cell_type": "code",
   "execution_count": 8,
   "id": "556d6256-2858-4595-8848-f79895bf33b2",
   "metadata": {},
   "outputs": [
    {
     "data": {
      "text/plain": [
       "[{'name': 'Charlie', 'age': 22, 'occupation': 'Intern'},\n",
       " {'name': 'Alice', 'age': 25, 'occupation': 'Engineer'},\n",
       " {'name': 'Dave', 'age': 27, 'occupation': 'Designer'},\n",
       " {'name': 'Bob', 'age': 30, 'occupation': 'Manager'}]"
      ]
     },
     "execution_count": 8,
     "metadata": {},
     "output_type": "execute_result"
    }
   ],
   "source": [
    "# Sorting a list of dictionaries based on a specific keys\n",
    "people=[\n",
    "    {'name':'Alice', 'age':25, 'occupation':'Engineer'},\n",
    "    {'name':'Bob', 'age':30, 'occupation':'Manager'},\n",
    "    {'name':'Charlie', 'age':22,'occupation':'Intern'},\n",
    "    {'name':'Dave','age':27,'occupation':'Designer'},\n",
    "]\n",
    "\n",
    "sorted(people,key=lambda x:(x['age']))"
   ]
  },
  {
   "cell_type": "code",
   "execution_count": 10,
   "id": "34cae959-0cbd-4310-8136-73b675049ec9",
   "metadata": {},
   "outputs": [
    {
     "data": {
      "text/plain": [
       "'b'"
      ]
     },
     "execution_count": 10,
     "metadata": {},
     "output_type": "execute_result"
    }
   ],
   "source": [
    "## Finding the maximum value in a dictionary\n",
    "data={'a':10,'b':20,'c':5,'d':15}\n",
    "max(data,key=lambda x: data[x])"
   ]
  },
  {
   "cell_type": "code",
   "execution_count": null,
   "id": "a303944e-ebbc-4c14-8ebf-67f3a977501c",
   "metadata": {},
   "outputs": [],
   "source": []
  }
 ],
 "metadata": {
  "kernelspec": {
   "display_name": "Python 3 (ipykernel)",
   "language": "python",
   "name": "python3"
  },
  "language_info": {
   "codemirror_mode": {
    "name": "ipython",
    "version": 3
   },
   "file_extension": ".py",
   "mimetype": "text/x-python",
   "name": "python",
   "nbconvert_exporter": "python",
   "pygments_lexer": "ipython3",
   "version": "3.11.5"
  }
 },
 "nbformat": 4,
 "nbformat_minor": 5
}
