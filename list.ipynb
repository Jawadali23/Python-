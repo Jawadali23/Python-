{
 "cells": [
  {
   "cell_type": "markdown",
   "id": "35e096c4-4a46-495c-a59e-4babf27534e1",
   "metadata": {},
   "source": [
    "# Tutorial 6 Python list\n",
    "#### Lists\n",
    "#### A list is a data structure in python that is a mutable, or changeable, ordered sequence of elements. Each element or value that is inside of a list is called an item. just as string as characters between quotes, lists are defined by having values between square brackets."
   ]
  },
  {
   "cell_type": "code",
   "execution_count": 2,
   "id": "19b8422f-3269-404d-b7ef-c6fc7ec414be",
   "metadata": {},
   "outputs": [
    {
     "name": "stdout",
     "output_type": "stream",
     "text": [
      "Jawad\n"
     ]
    },
    {
     "data": {
      "text/plain": [
       "str"
      ]
     },
     "execution_count": 2,
     "metadata": {},
     "output_type": "execute_result"
    }
   ],
   "source": [
    "## Mutable vs immutable\n",
    "str1='Jawad'\n",
    "print(str1)\n",
    "type(str1)"
   ]
  },
  {
   "cell_type": "code",
   "execution_count": 3,
   "id": "9f5aef6b-2497-4948-8a8f-135932d42380",
   "metadata": {},
   "outputs": [
    {
     "data": {
      "text/plain": [
       "list"
      ]
     },
     "execution_count": 3,
     "metadata": {},
     "output_type": "execute_result"
    }
   ],
   "source": [
    "type([])"
   ]
  },
  {
   "cell_type": "code",
   "execution_count": 4,
   "id": "891fe5e1-feba-4a61-bf42-f99719e9c0be",
   "metadata": {},
   "outputs": [
    {
     "name": "stdout",
     "output_type": "stream",
     "text": [
      "Ali\n"
     ]
    }
   ],
   "source": [
    "str1='Ali'\n",
    "print(str1)"
   ]
  },
  {
   "cell_type": "code",
   "execution_count": 11,
   "id": "ae74b1dd-c6fb-4fc8-aac7-08b4b19a565f",
   "metadata": {},
   "outputs": [
    {
     "ename": "TypeError",
     "evalue": "'str' object does not support item assignment",
     "output_type": "error",
     "traceback": [
      "\u001b[1;31m---------------------------------------------------------------------------\u001b[0m",
      "\u001b[1;31mTypeError\u001b[0m                                 Traceback (most recent call last)",
      "Cell \u001b[1;32mIn[11], line 2\u001b[0m\n\u001b[0;32m      1\u001b[0m \u001b[38;5;66;03m## String are immutable\u001b[39;00m\n\u001b[1;32m----> 2\u001b[0m \u001b[43mstr1\u001b[49m\u001b[43m[\u001b[49m\u001b[38;5;241;43m2\u001b[39;49m\u001b[43m]\u001b[49m\u001b[38;5;241m=\u001b[39m\u001b[38;5;124m'\u001b[39m\u001b[38;5;124mj\u001b[39m\u001b[38;5;124m'\u001b[39m\n",
      "\u001b[1;31mTypeError\u001b[0m: 'str' object does not support item assignment"
     ]
    }
   ],
   "source": [
    "## String are immutable\n",
    "str1[2]='j'"
   ]
  },
  {
   "cell_type": "code",
   "execution_count": 15,
   "id": "b9d57ad5-705d-4e64-86be-1bf760f8e69a",
   "metadata": {},
   "outputs": [
    {
     "name": "stdout",
     "output_type": "stream",
     "text": [
      "Jawad\n"
     ]
    }
   ],
   "source": [
    "# lists\n",
    "lst=[1,2,3,4,5,'Jawad','Ali']\n",
    "print(lst[5])"
   ]
  },
  {
   "cell_type": "code",
   "execution_count": 18,
   "id": "97d87586-9571-45c5-9b4e-47d48ff19698",
   "metadata": {},
   "outputs": [],
   "source": [
    "## lists are Mutable\n",
    "lst[5]='Junaid'"
   ]
  },
  {
   "cell_type": "code",
   "execution_count": 19,
   "id": "8524db7f-20c7-40f8-bf2d-ead273bdb980",
   "metadata": {},
   "outputs": [
    {
     "name": "stdout",
     "output_type": "stream",
     "text": [
      "[1, 2, 3, 4, 5, 'Junaid', 'Ali']\n"
     ]
    }
   ],
   "source": [
    "print(lst)"
   ]
  },
  {
   "cell_type": "code",
   "execution_count": 21,
   "id": "ad25565d-8b38-4b5f-890e-53c73000cafd",
   "metadata": {},
   "outputs": [
    {
     "name": "stdout",
     "output_type": "stream",
     "text": [
      "[1, 2, 3, 4]\n"
     ]
    }
   ],
   "source": [
    "lst = list((1,2,3,4))\n",
    "print(lst)"
   ]
  },
  {
   "cell_type": "code",
   "execution_count": 23,
   "id": "856ada25-e0d8-4e50-83b8-b3df1291bbaf",
   "metadata": {},
   "outputs": [
    {
     "name": "stdout",
     "output_type": "stream",
     "text": [
      "1\n",
      "4\n",
      "9\n",
      "16\n"
     ]
    }
   ],
   "source": [
    "for i in lst:\n",
    "    print(i**2)"
   ]
  },
  {
   "cell_type": "code",
   "execution_count": 25,
   "id": "7cc03093-f06a-4864-8387-551ee5461a62",
   "metadata": {},
   "outputs": [
    {
     "data": {
      "text/plain": [
       "4"
      ]
     },
     "execution_count": 25,
     "metadata": {},
     "output_type": "execute_result"
    }
   ],
   "source": [
    "len(lst)"
   ]
  },
  {
   "cell_type": "code",
   "execution_count": 26,
   "id": "9c316ec5-43b2-4914-9de6-6bf7d9be6b16",
   "metadata": {},
   "outputs": [
    {
     "data": {
      "text/plain": [
       "4"
      ]
     },
     "execution_count": 26,
     "metadata": {},
     "output_type": "execute_result"
    }
   ],
   "source": [
    "max(lst)"
   ]
  },
  {
   "cell_type": "code",
   "execution_count": 27,
   "id": "4da67507-a906-4039-aa53-d61bed90e88d",
   "metadata": {},
   "outputs": [
    {
     "data": {
      "text/plain": [
       "1"
      ]
     },
     "execution_count": 27,
     "metadata": {},
     "output_type": "execute_result"
    }
   ],
   "source": [
    "min(lst)"
   ]
  },
  {
   "cell_type": "markdown",
   "id": "b3f87e92-7446-4e5a-8455-f225622712b4",
   "metadata": {},
   "source": [
    "## Append"
   ]
  },
  {
   "cell_type": "code",
   "execution_count": 28,
   "id": "77be0e52-3b12-469b-b33f-e41df697bc40",
   "metadata": {},
   "outputs": [],
   "source": [
    "lst =[1,2,3,4,5,6]"
   ]
  },
  {
   "cell_type": "code",
   "execution_count": 29,
   "id": "2d9937dc-13f4-46f4-b5ca-07844e75acce",
   "metadata": {},
   "outputs": [
    {
     "name": "stdout",
     "output_type": "stream",
     "text": [
      "[1, 2, 3, 4, 5, 6]\n"
     ]
    }
   ],
   "source": [
    "print(lst)"
   ]
  },
  {
   "cell_type": "code",
   "execution_count": 30,
   "id": "3f2b8a07-3e18-47df-ae01-93cc0243f06a",
   "metadata": {},
   "outputs": [],
   "source": [
    "lst.append('Jawad')"
   ]
  },
  {
   "cell_type": "code",
   "execution_count": 31,
   "id": "7ef01edc-cf36-4e80-8b6d-7d4186066d9f",
   "metadata": {},
   "outputs": [
    {
     "data": {
      "text/plain": [
       "[1, 2, 3, 4, 5, 6, 'Jawad']"
      ]
     },
     "execution_count": 31,
     "metadata": {},
     "output_type": "execute_result"
    }
   ],
   "source": [
    "lst"
   ]
  },
  {
   "cell_type": "code",
   "execution_count": 38,
   "id": "8dbc20aa-6743-4b35-bed8-6a9469ad8264",
   "metadata": {},
   "outputs": [],
   "source": [
    "lst.append(['Ali','Shahani'])"
   ]
  },
  {
   "cell_type": "code",
   "execution_count": 40,
   "id": "e9a49f1d-c53c-48d0-9339-d821b90b19ec",
   "metadata": {},
   "outputs": [
    {
     "data": {
      "text/plain": [
       "[1, 2, 3, 4, 5, 6, 'Jawad', ['Ali,Shahani'], ['Ali', 'Shahani']]"
      ]
     },
     "execution_count": 40,
     "metadata": {},
     "output_type": "execute_result"
    }
   ],
   "source": [
    "lst"
   ]
  },
  {
   "cell_type": "code",
   "execution_count": 42,
   "id": "b65babb8-ecb8-435a-9674-ee1556b2a13e",
   "metadata": {},
   "outputs": [
    {
     "ename": "IndexError",
     "evalue": "list index out of range",
     "output_type": "error",
     "traceback": [
      "\u001b[1;31m---------------------------------------------------------------------------\u001b[0m",
      "\u001b[1;31mIndexError\u001b[0m                                Traceback (most recent call last)",
      "Cell \u001b[1;32mIn[42], line 1\u001b[0m\n\u001b[1;32m----> 1\u001b[0m \u001b[43mlst\u001b[49m\u001b[43m[\u001b[49m\u001b[38;5;241;43m7\u001b[39;49m\u001b[43m]\u001b[49m\u001b[43m[\u001b[49m\u001b[38;5;241;43m1\u001b[39;49m\u001b[43m]\u001b[49m\n",
      "\u001b[1;31mIndexError\u001b[0m: list index out of range"
     ]
    }
   ],
   "source": [
    "lst[7][1]"
   ]
  },
  {
   "cell_type": "code",
   "execution_count": 43,
   "id": "1f5a39f5-2d5c-483a-b66a-9fc5ffdde26a",
   "metadata": {},
   "outputs": [],
   "source": [
    "lst.remove(6)"
   ]
  },
  {
   "cell_type": "code",
   "execution_count": 44,
   "id": "10d87bea-e072-4d59-9729-cbe96f15c20d",
   "metadata": {},
   "outputs": [
    {
     "data": {
      "text/plain": [
       "[1, 2, 3, 4, 5, 'Jawad', ['Ali,Shahani'], ['Ali', 'Shahani']]"
      ]
     },
     "execution_count": 44,
     "metadata": {},
     "output_type": "execute_result"
    }
   ],
   "source": [
    "lst"
   ]
  },
  {
   "cell_type": "code",
   "execution_count": 45,
   "id": "159a523f-9477-437f-81a3-8c80130f7391",
   "metadata": {},
   "outputs": [],
   "source": [
    "lst.remove(['Ali,Shahani'])"
   ]
  },
  {
   "cell_type": "code",
   "execution_count": 46,
   "id": "20c89a14-5c5d-4bd6-ae2e-80bf8cf9f41f",
   "metadata": {},
   "outputs": [
    {
     "data": {
      "text/plain": [
       "[1, 2, 3, 4, 5, 'Jawad', ['Ali', 'Shahani']]"
      ]
     },
     "execution_count": 46,
     "metadata": {},
     "output_type": "execute_result"
    }
   ],
   "source": [
    "lst"
   ]
  },
  {
   "cell_type": "code",
   "execution_count": 47,
   "id": "f504ffbb-4557-489b-85f0-07dbbdd7b5d5",
   "metadata": {},
   "outputs": [
    {
     "data": {
      "text/plain": [
       "[1, 2, 3, 4, 5, 'Jawad', ['Ali', 'Shahani']]"
      ]
     },
     "execution_count": 47,
     "metadata": {},
     "output_type": "execute_result"
    }
   ],
   "source": [
    "lst"
   ]
  },
  {
   "cell_type": "code",
   "execution_count": 48,
   "id": "a81e3f6d-afe6-4ad3-b8a9-78f027fbb8b3",
   "metadata": {},
   "outputs": [
    {
     "data": {
      "text/plain": [
       "[1, 2, 3, 4, 5, 'Jawad', ['Ali', 'Shahani']]"
      ]
     },
     "execution_count": 48,
     "metadata": {},
     "output_type": "execute_result"
    }
   ],
   "source": [
    "lst[:]"
   ]
  },
  {
   "cell_type": "code",
   "execution_count": 51,
   "id": "fbb95a8c-061c-40bf-8c0c-3372e73018bc",
   "metadata": {},
   "outputs": [
    {
     "data": {
      "text/plain": [
       "'Ali'"
      ]
     },
     "execution_count": 51,
     "metadata": {},
     "output_type": "execute_result"
    }
   ],
   "source": [
    "lst[6][0]"
   ]
  },
  {
   "cell_type": "code",
   "execution_count": 52,
   "id": "7a2838b0-f8d6-4f19-b6e3-898044e21d07",
   "metadata": {},
   "outputs": [
    {
     "data": {
      "text/plain": [
       "'Jawad'"
      ]
     },
     "execution_count": 52,
     "metadata": {},
     "output_type": "execute_result"
    }
   ],
   "source": [
    "lst[5]"
   ]
  },
  {
   "cell_type": "code",
   "execution_count": 53,
   "id": "aedcfc6e-1132-42d8-aa44-726be64e4845",
   "metadata": {},
   "outputs": [
    {
     "data": {
      "text/plain": [
       "'Shahani'"
      ]
     },
     "execution_count": 53,
     "metadata": {},
     "output_type": "execute_result"
    }
   ],
   "source": [
    "lst[6][1]"
   ]
  },
  {
   "cell_type": "code",
   "execution_count": 54,
   "id": "40770e66-edde-4aed-94a5-3dec1c8b1a23",
   "metadata": {},
   "outputs": [
    {
     "data": {
      "text/plain": [
       "[3, 4, 5, 'Jawad']"
      ]
     },
     "execution_count": 54,
     "metadata": {},
     "output_type": "execute_result"
    }
   ],
   "source": [
    "lst[2:6]"
   ]
  },
  {
   "cell_type": "markdown",
   "id": "7a089afa-5367-4f3d-a326-9aff55ead631",
   "metadata": {},
   "source": [
    "## Insert"
   ]
  },
  {
   "cell_type": "code",
   "execution_count": 55,
   "id": "94ea4ce3-2ed5-4242-a044-57b1b2284b43",
   "metadata": {},
   "outputs": [
    {
     "data": {
      "text/plain": [
       "[1, 2, 3, 4, 5, 'Jawad', ['Ali', 'Shahani']]"
      ]
     },
     "execution_count": 55,
     "metadata": {},
     "output_type": "execute_result"
    }
   ],
   "source": [
    "lst\n"
   ]
  },
  {
   "cell_type": "code",
   "execution_count": 57,
   "id": "00a83843-f600-41eb-8b19-f674a154e1fb",
   "metadata": {},
   "outputs": [],
   "source": [
    "lst.insert(6,'Ali')"
   ]
  },
  {
   "cell_type": "code",
   "execution_count": 58,
   "id": "abfefa16-c670-489a-b142-2b193a733ee9",
   "metadata": {},
   "outputs": [
    {
     "data": {
      "text/plain": [
       "[1, 2, 3, 4, 5, 'Jawad', 'Ali', ['Ali', 'Shahani']]"
      ]
     },
     "execution_count": 58,
     "metadata": {},
     "output_type": "execute_result"
    }
   ],
   "source": [
    "lst"
   ]
  },
  {
   "cell_type": "code",
   "execution_count": 59,
   "id": "a7b8b94e-070c-433f-8761-974a61eb5e01",
   "metadata": {},
   "outputs": [],
   "source": [
    "lst.remove('Ali')"
   ]
  },
  {
   "cell_type": "code",
   "execution_count": 60,
   "id": "c8a8b8ba-f85b-4281-9a88-c0e2eab77f4e",
   "metadata": {},
   "outputs": [
    {
     "data": {
      "text/plain": [
       "[1, 2, 3, 4, 5, 'Jawad', ['Ali', 'Shahani']]"
      ]
     },
     "execution_count": 60,
     "metadata": {},
     "output_type": "execute_result"
    }
   ],
   "source": [
    "lst"
   ]
  },
  {
   "cell_type": "markdown",
   "id": "05a460af-a363-4809-a2fc-da998bb5fcff",
   "metadata": {},
   "source": [
    "## Extend"
   ]
  },
  {
   "cell_type": "code",
   "execution_count": 61,
   "id": "102e0998-b528-4553-973e-03543cc109e3",
   "metadata": {},
   "outputs": [
    {
     "data": {
      "text/plain": [
       "[1, 2, 3, 4, 5, 'Jawad', ['Ali', 'Shahani']]"
      ]
     },
     "execution_count": 61,
     "metadata": {},
     "output_type": "execute_result"
    }
   ],
   "source": [
    "lst"
   ]
  },
  {
   "cell_type": "code",
   "execution_count": 62,
   "id": "efcc533b-b3eb-4616-8037-256c1a85d73e",
   "metadata": {},
   "outputs": [],
   "source": [
    "lst.extend(['Ali','Shahani'])"
   ]
  },
  {
   "cell_type": "code",
   "execution_count": 63,
   "id": "adfe1a22-ceb1-4317-a8fb-c4d83d92f7d9",
   "metadata": {},
   "outputs": [
    {
     "data": {
      "text/plain": [
       "[1, 2, 3, 4, 5, 'Jawad', ['Ali', 'Shahani'], 'Ali', 'Shahani']"
      ]
     },
     "execution_count": 63,
     "metadata": {},
     "output_type": "execute_result"
    }
   ],
   "source": [
    "lst"
   ]
  },
  {
   "cell_type": "code",
   "execution_count": 64,
   "id": "762a3ab8-9b36-42be-9177-b64965810a60",
   "metadata": {},
   "outputs": [],
   "source": [
    "lst.remove(['Ali','Shahani'])"
   ]
  },
  {
   "cell_type": "code",
   "execution_count": 65,
   "id": "115a80f9-895b-41a0-95ac-2d4f7812fe30",
   "metadata": {},
   "outputs": [
    {
     "data": {
      "text/plain": [
       "[1, 2, 3, 4, 5, 'Jawad', 'Ali', 'Shahani']"
      ]
     },
     "execution_count": 65,
     "metadata": {},
     "output_type": "execute_result"
    }
   ],
   "source": [
    "lst"
   ]
  },
  {
   "cell_type": "markdown",
   "id": "ab51ccbc-47b0-4ac1-84cb-4c13917c9fd5",
   "metadata": {},
   "source": [
    "## Various Operations that we can perform in list"
   ]
  },
  {
   "cell_type": "code",
   "execution_count": 68,
   "id": "fd71c2f1-60ca-4bd6-85a1-3b4b845acd90",
   "metadata": {},
   "outputs": [
    {
     "data": {
      "text/plain": [
       "[1, 2, 3, 4, 5, 6]"
      ]
     },
     "execution_count": 68,
     "metadata": {},
     "output_type": "execute_result"
    }
   ],
   "source": [
    "lst = [1,2,3,4,5,6]\n",
    "lst"
   ]
  },
  {
   "cell_type": "code",
   "execution_count": 69,
   "id": "eb320993-3a1b-44c0-88b8-d45812adee0a",
   "metadata": {},
   "outputs": [
    {
     "data": {
      "text/plain": [
       "21"
      ]
     },
     "execution_count": 69,
     "metadata": {},
     "output_type": "execute_result"
    }
   ],
   "source": [
    "sum(lst)"
   ]
  },
  {
   "cell_type": "code",
   "execution_count": 70,
   "id": "9274879c-1025-4e57-b11b-c5aa59845305",
   "metadata": {},
   "outputs": [
    {
     "data": {
      "text/plain": [
       "[1, 2, 3, 4, 5, 6, 1, 2, 3, 4, 5, 6, 1, 2, 3, 4, 5, 6, 1, 2, 3, 4, 5, 6]"
      ]
     },
     "execution_count": 70,
     "metadata": {},
     "output_type": "execute_result"
    }
   ],
   "source": [
    "lst*4\n"
   ]
  },
  {
   "cell_type": "code",
   "execution_count": 71,
   "id": "d0469b16-9792-4e14-9253-62246e9a6979",
   "metadata": {},
   "outputs": [
    {
     "ename": "TypeError",
     "evalue": "unsupported operand type(s) for /: 'list' and 'int'",
     "output_type": "error",
     "traceback": [
      "\u001b[1;31m---------------------------------------------------------------------------\u001b[0m",
      "\u001b[1;31mTypeError\u001b[0m                                 Traceback (most recent call last)",
      "Cell \u001b[1;32mIn[71], line 1\u001b[0m\n\u001b[1;32m----> 1\u001b[0m \u001b[43mlst\u001b[49m\u001b[38;5;241;43m/\u001b[39;49m\u001b[38;5;241;43m5\u001b[39;49m\n",
      "\u001b[1;31mTypeError\u001b[0m: unsupported operand type(s) for /: 'list' and 'int'"
     ]
    }
   ],
   "source": [
    "lst/5"
   ]
  },
  {
   "cell_type": "code",
   "execution_count": 72,
   "id": "18bb2e2d-443f-49a6-9e31-f5faaac26366",
   "metadata": {},
   "outputs": [
    {
     "ename": "TypeError",
     "evalue": "can only concatenate list (not \"int\") to list",
     "output_type": "error",
     "traceback": [
      "\u001b[1;31m---------------------------------------------------------------------------\u001b[0m",
      "\u001b[1;31mTypeError\u001b[0m                                 Traceback (most recent call last)",
      "Cell \u001b[1;32mIn[72], line 1\u001b[0m\n\u001b[1;32m----> 1\u001b[0m \u001b[43mlst\u001b[49m\u001b[38;5;241;43m+\u001b[39;49m\u001b[38;5;241;43m5\u001b[39;49m\n",
      "\u001b[1;31mTypeError\u001b[0m: can only concatenate list (not \"int\") to list"
     ]
    }
   ],
   "source": [
    "lst+5"
   ]
  },
  {
   "cell_type": "code",
   "execution_count": 74,
   "id": "1dd0550b-e90e-47c6-922e-9f3c30cd0b90",
   "metadata": {},
   "outputs": [
    {
     "name": "stdout",
     "output_type": "stream",
     "text": [
      "6\n",
      "7\n",
      "8\n",
      "9\n",
      "10\n",
      "11\n"
     ]
    }
   ],
   "source": [
    "for i in lst:\n",
    "    print(i+5)"
   ]
  },
  {
   "cell_type": "markdown",
   "id": "8d66667c-daed-4236-8381-eb3292a83cde",
   "metadata": {},
   "source": [
    "## Pop() Method"
   ]
  },
  {
   "cell_type": "code",
   "execution_count": 75,
   "id": "c90175be-2891-4bc9-b413-b08d319cce1c",
   "metadata": {},
   "outputs": [
    {
     "data": {
      "text/plain": [
       "6"
      ]
     },
     "execution_count": 75,
     "metadata": {},
     "output_type": "execute_result"
    }
   ],
   "source": [
    "lst.pop()"
   ]
  },
  {
   "cell_type": "code",
   "execution_count": 76,
   "id": "f3c5ae31-0e44-4f9a-b043-1b87e177b20c",
   "metadata": {},
   "outputs": [
    {
     "data": {
      "text/plain": [
       "[1, 2, 3, 4, 5]"
      ]
     },
     "execution_count": 76,
     "metadata": {},
     "output_type": "execute_result"
    }
   ],
   "source": [
    "lst"
   ]
  },
  {
   "cell_type": "code",
   "execution_count": 77,
   "id": "032cd292-bdee-4ac2-b91b-5bf4a26c6e72",
   "metadata": {},
   "outputs": [
    {
     "data": {
      "text/plain": [
       "5"
      ]
     },
     "execution_count": 77,
     "metadata": {},
     "output_type": "execute_result"
    }
   ],
   "source": [
    "lst.pop()"
   ]
  },
  {
   "cell_type": "code",
   "execution_count": 79,
   "id": "1ed4056a-69a4-4f0c-b733-899f0a9e25c3",
   "metadata": {},
   "outputs": [
    {
     "data": {
      "text/plain": [
       "4"
      ]
     },
     "execution_count": 79,
     "metadata": {},
     "output_type": "execute_result"
    }
   ],
   "source": [
    "lst.pop(3)"
   ]
  },
  {
   "cell_type": "code",
   "execution_count": 80,
   "id": "de08bb39-3507-4383-a00e-3f6436845167",
   "metadata": {},
   "outputs": [
    {
     "data": {
      "text/plain": [
       "[1, 2, 3]"
      ]
     },
     "execution_count": 80,
     "metadata": {},
     "output_type": "execute_result"
    }
   ],
   "source": [
    "lst"
   ]
  },
  {
   "cell_type": "markdown",
   "id": "c5ee1246-a73a-41a6-99fe-be46b848b866",
   "metadata": {},
   "source": [
    "## Count(): Calculates total occurrence of given element of list"
   ]
  },
  {
   "cell_type": "code",
   "execution_count": 82,
   "id": "7911c93d-6dfe-44a7-84ef-e1092ce15cd8",
   "metadata": {},
   "outputs": [
    {
     "data": {
      "text/plain": [
       "[1, 2, 3, 4, 5, 6, 7]"
      ]
     },
     "execution_count": 82,
     "metadata": {},
     "output_type": "execute_result"
    }
   ],
   "source": [
    "lst =[1,2,3,4,5,6,7]\n",
    "lst"
   ]
  },
  {
   "cell_type": "code",
   "execution_count": 84,
   "id": "7cc4d525-9031-4e09-ae37-ec29eb9c3b8b",
   "metadata": {},
   "outputs": [
    {
     "data": {
      "text/plain": [
       "1"
      ]
     },
     "execution_count": 84,
     "metadata": {},
     "output_type": "execute_result"
    }
   ],
   "source": [
    "lst.count(1)"
   ]
  },
  {
   "cell_type": "code",
   "execution_count": 85,
   "id": "7cd5f813-d9c6-419c-90bd-f992c6d00641",
   "metadata": {},
   "outputs": [
    {
     "data": {
      "text/plain": [
       "7"
      ]
     },
     "execution_count": 85,
     "metadata": {},
     "output_type": "execute_result"
    }
   ],
   "source": [
    "len(lst)"
   ]
  },
  {
   "cell_type": "code",
   "execution_count": null,
   "id": "b4377094-7fdb-4bdb-8fbf-a71c71dcb57e",
   "metadata": {},
   "outputs": [],
   "source": []
  }
 ],
 "metadata": {
  "kernelspec": {
   "display_name": "Python 3 (ipykernel)",
   "language": "python",
   "name": "python3"
  },
  "language_info": {
   "codemirror_mode": {
    "name": "ipython",
    "version": 3
   },
   "file_extension": ".py",
   "mimetype": "text/x-python",
   "name": "python",
   "nbconvert_exporter": "python",
   "pygments_lexer": "ipython3",
   "version": "3.11.5"
  }
 },
 "nbformat": 4,
 "nbformat_minor": 5
}
