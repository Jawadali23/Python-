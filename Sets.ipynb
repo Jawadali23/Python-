{
 "cells": [
  {
   "cell_type": "markdown",
   "id": "6647c103-03c3-45ab-badd-9b554bc4f8d3",
   "metadata": {},
   "source": [
    "# Tutorial 7 Python Sets"
   ]
  },
  {
   "cell_type": "markdown",
   "id": "7d862093-881e-49fe-9086-b89fe7c90e1a",
   "metadata": {},
   "source": [
    "## Sets \n",
    "#### A set is an unordered collection data type that is iterable, mutable, and has no duplicate elements. Python's set class represents the mathematical notion of a set. This is based on a data structure known as a hash table."
   ]
  },
  {
   "cell_type": "code",
   "execution_count": 1,
   "id": "756842d3-d7cd-42bf-9d05-5fcbf9c87bc4",
   "metadata": {},
   "outputs": [
    {
     "data": {
      "text/plain": [
       "set"
      ]
     },
     "execution_count": 1,
     "metadata": {},
     "output_type": "execute_result"
    }
   ],
   "source": [
    "type({1,2,3,4,5})"
   ]
  },
  {
   "cell_type": "code",
   "execution_count": 2,
   "id": "3fc2a215-0acf-4556-963d-6891269ddd97",
   "metadata": {},
   "outputs": [
    {
     "data": {
      "text/plain": [
       "dict"
      ]
     },
     "execution_count": 2,
     "metadata": {},
     "output_type": "execute_result"
    }
   ],
   "source": [
    "type({})"
   ]
  },
  {
   "cell_type": "code",
   "execution_count": 3,
   "id": "924527bb-fbc3-4728-900e-755f12182a16",
   "metadata": {},
   "outputs": [],
   "source": [
    "set= ({1,2,3,4,5,6})"
   ]
  },
  {
   "cell_type": "code",
   "execution_count": 4,
   "id": "0dcc176a-56d3-4edf-a8bc-d3046e428efd",
   "metadata": {},
   "outputs": [
    {
     "name": "stdout",
     "output_type": "stream",
     "text": [
      "{1, 2, 3, 4, 5, 6}\n"
     ]
    }
   ],
   "source": [
    "print(set)"
   ]
  },
  {
   "cell_type": "code",
   "execution_count": 5,
   "id": "29ba5a56-7223-4e62-99a2-25da023cbeae",
   "metadata": {},
   "outputs": [
    {
     "data": {
      "text/plain": [
       "set"
      ]
     },
     "execution_count": 5,
     "metadata": {},
     "output_type": "execute_result"
    }
   ],
   "source": [
    "type(set)"
   ]
  },
  {
   "cell_type": "code",
   "execution_count": 6,
   "id": "5c3ff3bf-7e69-4a19-a540-3a80e2ab3cda",
   "metadata": {},
   "outputs": [],
   "source": [
    "set ={1,2,3,4,5,6}"
   ]
  },
  {
   "cell_type": "code",
   "execution_count": 7,
   "id": "b002af08-0af7-42fa-91f3-3d315d8a9fbd",
   "metadata": {},
   "outputs": [
    {
     "data": {
      "text/plain": [
       "set"
      ]
     },
     "execution_count": 7,
     "metadata": {},
     "output_type": "execute_result"
    }
   ],
   "source": [
    "type(set)"
   ]
  },
  {
   "cell_type": "code",
   "execution_count": 8,
   "id": "21f75fc5-931d-4296-b66a-285e82d5167c",
   "metadata": {},
   "outputs": [
    {
     "name": "stdout",
     "output_type": "stream",
     "text": [
      "{1, 2, 3, 4, 5, 6}\n"
     ]
    }
   ],
   "source": [
    "print(set)"
   ]
  },
  {
   "cell_type": "code",
   "execution_count": 9,
   "id": "43d40acb-6a86-471f-baa9-2fbde354c975",
   "metadata": {},
   "outputs": [],
   "source": [
    "set={1,2,3,4,5,6,7,7}"
   ]
  },
  {
   "cell_type": "code",
   "execution_count": 10,
   "id": "4e13a255-3072-4967-99db-c6da9278da9c",
   "metadata": {},
   "outputs": [
    {
     "name": "stdout",
     "output_type": "stream",
     "text": [
      "{1, 2, 3, 4, 5, 6, 7}\n"
     ]
    }
   ],
   "source": [
    "print(set)"
   ]
  },
  {
   "cell_type": "code",
   "execution_count": 11,
   "id": "98dc812b-f666-47e5-8d6e-2ec3187fb596",
   "metadata": {},
   "outputs": [],
   "source": [
    "set_var={'Avengers','IronMan','Hitman'}"
   ]
  },
  {
   "cell_type": "code",
   "execution_count": 12,
   "id": "d1392139-4fa1-43e0-b8f0-3cfa3dbe61b9",
   "metadata": {},
   "outputs": [
    {
     "name": "stdout",
     "output_type": "stream",
     "text": [
      "{'Hitman', 'IronMan', 'Avengers'}\n"
     ]
    },
    {
     "data": {
      "text/plain": [
       "set"
      ]
     },
     "execution_count": 12,
     "metadata": {},
     "output_type": "execute_result"
    }
   ],
   "source": [
    "print(set_var)\n",
    "type(set_var)"
   ]
  },
  {
   "cell_type": "code",
   "execution_count": 13,
   "id": "943da6ad-ed4b-4d82-91bf-3a9fd77c79ac",
   "metadata": {},
   "outputs": [],
   "source": [
    "set_var.add('Batman')"
   ]
  },
  {
   "cell_type": "code",
   "execution_count": 14,
   "id": "8ca9561a-6c39-4686-a2c4-e35963ccbcda",
   "metadata": {},
   "outputs": [
    {
     "name": "stdout",
     "output_type": "stream",
     "text": [
      "{'Hitman', 'IronMan', 'Avengers', 'Batman'}\n"
     ]
    }
   ],
   "source": [
    "print(set_var)"
   ]
  },
  {
   "cell_type": "code",
   "execution_count": 15,
   "id": "4e9aff1d-a073-4e9f-9ea5-8f582d5a36b2",
   "metadata": {},
   "outputs": [
    {
     "data": {
      "text/plain": [
       "{'Avengers', 'Batman', 'Hitman', 'IronMan'}"
      ]
     },
     "execution_count": 15,
     "metadata": {},
     "output_type": "execute_result"
    }
   ],
   "source": [
    "set_var"
   ]
  },
  {
   "cell_type": "code",
   "execution_count": 16,
   "id": "2ddb5c43-1a98-4be9-bfc7-01bf77f56d05",
   "metadata": {},
   "outputs": [
    {
     "name": "stdout",
     "output_type": "stream",
     "text": [
      "Hitman\n",
      "IronMan\n",
      "Avengers\n",
      "Batman\n"
     ]
    }
   ],
   "source": [
    "for i in set_var:\n",
    "    print(i)"
   ]
  },
  {
   "cell_type": "code",
   "execution_count": 17,
   "id": "f4274cec-87fd-4855-94cb-8d8b25421b82",
   "metadata": {},
   "outputs": [],
   "source": [
    "set_var.add('Hulk')"
   ]
  },
  {
   "cell_type": "code",
   "execution_count": 18,
   "id": "ecea6fd8-e78b-4afe-810a-4e05fd140b66",
   "metadata": {},
   "outputs": [
    {
     "data": {
      "text/plain": [
       "{'Avengers', 'Batman', 'Hitman', 'Hulk', 'IronMan'}"
      ]
     },
     "execution_count": 18,
     "metadata": {},
     "output_type": "execute_result"
    }
   ],
   "source": [
    "set_var"
   ]
  },
  {
   "cell_type": "code",
   "execution_count": 19,
   "id": "69e41a73-04e4-4218-abb9-1ffcf82f5840",
   "metadata": {},
   "outputs": [],
   "source": [
    "set_1={4,5,8,9,2,1}"
   ]
  },
  {
   "cell_type": "code",
   "execution_count": 20,
   "id": "0930e895-a499-4313-aea9-d52c2af8b47a",
   "metadata": {},
   "outputs": [
    {
     "data": {
      "text/plain": [
       "{1, 2, 4, 5, 8, 9}"
      ]
     },
     "execution_count": 20,
     "metadata": {},
     "output_type": "execute_result"
    }
   ],
   "source": [
    "set_1"
   ]
  },
  {
   "cell_type": "code",
   "execution_count": 21,
   "id": "749213eb-2162-4f94-a274-c52a2f7d6aae",
   "metadata": {},
   "outputs": [],
   "source": [
    "set_1.add(0)"
   ]
  },
  {
   "cell_type": "code",
   "execution_count": 22,
   "id": "76a66da2-f7a9-45a2-b685-a82f3d281ece",
   "metadata": {},
   "outputs": [
    {
     "data": {
      "text/plain": [
       "{0, 1, 2, 4, 5, 8, 9}"
      ]
     },
     "execution_count": 22,
     "metadata": {},
     "output_type": "execute_result"
    }
   ],
   "source": [
    "set_1"
   ]
  },
  {
   "cell_type": "code",
   "execution_count": 23,
   "id": "5f6c7a94-8b5f-4c8c-bd79-fd2fa3f2a5d4",
   "metadata": {},
   "outputs": [
    {
     "name": "stdout",
     "output_type": "stream",
     "text": [
      "{0, 1, 2, 4, 5, 8, 9}\n"
     ]
    }
   ],
   "source": [
    "print(set_1)"
   ]
  },
  {
   "cell_type": "code",
   "execution_count": 24,
   "id": "0dfd701f-8ad1-4fb0-bf8f-6b6b276449bd",
   "metadata": {},
   "outputs": [],
   "source": [
    "set_2={2,4,6,8,10}"
   ]
  },
  {
   "cell_type": "code",
   "execution_count": 25,
   "id": "d30328ba-dc37-4409-a697-cd2ad8b1e8f7",
   "metadata": {},
   "outputs": [
    {
     "data": {
      "text/plain": [
       "{2, 4, 8}"
      ]
     },
     "execution_count": 25,
     "metadata": {},
     "output_type": "execute_result"
    }
   ],
   "source": [
    "set_2.intersection(set_1)"
   ]
  },
  {
   "cell_type": "code",
   "execution_count": 26,
   "id": "80744271-7bf0-4e10-88aa-7dfcea75a3ea",
   "metadata": {},
   "outputs": [],
   "source": [
    "set_2.intersection_update(set_1)"
   ]
  },
  {
   "cell_type": "code",
   "execution_count": 27,
   "id": "6ec6b04c-9ff5-435b-96c1-8ceeb37b3569",
   "metadata": {},
   "outputs": [
    {
     "data": {
      "text/plain": [
       "{2, 4, 8}"
      ]
     },
     "execution_count": 27,
     "metadata": {},
     "output_type": "execute_result"
    }
   ],
   "source": [
    "set_2\n"
   ]
  },
  {
   "cell_type": "code",
   "execution_count": 28,
   "id": "6d742112-6f48-4aec-964b-c15f62f8a468",
   "metadata": {},
   "outputs": [
    {
     "data": {
      "text/plain": [
       "{0, 1, 2, 4, 5, 8, 9}"
      ]
     },
     "execution_count": 28,
     "metadata": {},
     "output_type": "execute_result"
    }
   ],
   "source": [
    "set_1"
   ]
  },
  {
   "cell_type": "code",
   "execution_count": 29,
   "id": "126e2252-6a5e-4b1c-a378-90bf52866f86",
   "metadata": {},
   "outputs": [
    {
     "data": {
      "text/plain": [
       "{2, 4, 8}"
      ]
     },
     "execution_count": 29,
     "metadata": {},
     "output_type": "execute_result"
    }
   ],
   "source": [
    "set_1.intersection(set_2)"
   ]
  },
  {
   "cell_type": "code",
   "execution_count": 30,
   "id": "48e0d6e3-c8c0-420d-a056-4ee1889162df",
   "metadata": {},
   "outputs": [
    {
     "data": {
      "text/plain": [
       "{0, 1, 2, 4, 5, 8, 9}"
      ]
     },
     "execution_count": 30,
     "metadata": {},
     "output_type": "execute_result"
    }
   ],
   "source": [
    "set_1"
   ]
  },
  {
   "cell_type": "code",
   "execution_count": 31,
   "id": "18d3f8e0-4efe-4986-8a42-22023bdfb406",
   "metadata": {},
   "outputs": [
    {
     "name": "stdout",
     "output_type": "stream",
     "text": [
      "{0, 1, 2, 4, 5, 8, 9}\n"
     ]
    }
   ],
   "source": [
    "print(set_1)"
   ]
  },
  {
   "cell_type": "code",
   "execution_count": 32,
   "id": "6c414753-133c-4b42-98c0-a653f03f1efe",
   "metadata": {},
   "outputs": [
    {
     "data": {
      "text/plain": [
       "{0, 1, 5, 9}"
      ]
     },
     "execution_count": 32,
     "metadata": {},
     "output_type": "execute_result"
    }
   ],
   "source": [
    "set_1.difference(set_2)"
   ]
  },
  {
   "cell_type": "code",
   "execution_count": 33,
   "id": "96ae3656-0b27-4d57-8729-eb5c172594dc",
   "metadata": {},
   "outputs": [
    {
     "data": {
      "text/plain": [
       "True"
      ]
     },
     "execution_count": 33,
     "metadata": {},
     "output_type": "execute_result"
    }
   ],
   "source": [
    "set_1.issuperset(set_2)"
   ]
  },
  {
   "cell_type": "code",
   "execution_count": 34,
   "id": "d8d4a8c8-b0b2-44ac-b643-82cc90a83474",
   "metadata": {},
   "outputs": [
    {
     "data": {
      "text/plain": [
       "False"
      ]
     },
     "execution_count": 34,
     "metadata": {},
     "output_type": "execute_result"
    }
   ],
   "source": [
    "set_2.issuperset(set_1)"
   ]
  },
  {
   "cell_type": "code",
   "execution_count": 35,
   "id": "5d67d66d-e66f-4187-9657-5deb94da8eb4",
   "metadata": {},
   "outputs": [
    {
     "data": {
      "text/plain": [
       "False"
      ]
     },
     "execution_count": 35,
     "metadata": {},
     "output_type": "execute_result"
    }
   ],
   "source": [
    "set_1.issubset(set_2)"
   ]
  },
  {
   "cell_type": "code",
   "execution_count": 36,
   "id": "b85b4997-afa6-47fc-a3ac-653cf249e746",
   "metadata": {},
   "outputs": [
    {
     "data": {
      "text/plain": [
       "True"
      ]
     },
     "execution_count": 36,
     "metadata": {},
     "output_type": "execute_result"
    }
   ],
   "source": [
    "set_2.issubset(set_1)"
   ]
  },
  {
   "cell_type": "code",
   "execution_count": 37,
   "id": "e54a8ccf-5eab-4fb5-9e2f-05025dc75be6",
   "metadata": {},
   "outputs": [
    {
     "data": {
      "text/plain": [
       "{0, 1, 2, 4, 5, 8, 9}"
      ]
     },
     "execution_count": 37,
     "metadata": {},
     "output_type": "execute_result"
    }
   ],
   "source": [
    "set_1"
   ]
  },
  {
   "cell_type": "code",
   "execution_count": 38,
   "id": "bda4cdcb-88c3-40e8-9187-1b3bd6f7c725",
   "metadata": {},
   "outputs": [
    {
     "data": {
      "text/plain": [
       "{2, 4, 8}"
      ]
     },
     "execution_count": 38,
     "metadata": {},
     "output_type": "execute_result"
    }
   ],
   "source": [
    "set_2"
   ]
  },
  {
   "cell_type": "code",
   "execution_count": null,
   "id": "e749c2f8-0b6a-4e7c-8cb6-f8e5bc241ed1",
   "metadata": {},
   "outputs": [],
   "source": []
  }
 ],
 "metadata": {
  "kernelspec": {
   "display_name": "Python 3 (ipykernel)",
   "language": "python",
   "name": "python3"
  },
  "language_info": {
   "codemirror_mode": {
    "name": "ipython",
    "version": 3
   },
   "file_extension": ".py",
   "mimetype": "text/x-python",
   "name": "python",
   "nbconvert_exporter": "python",
   "pygments_lexer": "ipython3",
   "version": "3.11.5"
  }
 },
 "nbformat": 4,
 "nbformat_minor": 5
}
