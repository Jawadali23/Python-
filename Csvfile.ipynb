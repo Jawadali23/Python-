{
 "cells": [
  {
   "cell_type": "code",
   "execution_count": 5,
   "id": "3ff81986-3bd6-468e-8338-034b919f8d7c",
   "metadata": {},
   "outputs": [],
   "source": [
    "import numpy as np\n",
    "import pandas as pd"
   ]
  },
  {
   "cell_type": "code",
   "execution_count": 16,
   "id": "7cfa3998-59fb-412e-8d81-7fe8bf6f436c",
   "metadata": {},
   "outputs": [],
   "source": [
    "dict1 ={\n",
    "    \"Date\":['Day','Week','Month','Year',],\n",
    "    \"Location\":['Hotel Name','Hotel location','City','Country'],\n",
    "    \"Agents\":['Travel agents','Agents name','Agents Address','Agents contact info'],\n",
    "    \"Customers\": ['Customer ID','Customer name','Customer Address','Customer contact info'],\n",
    "    \"Room Types\" :['Room single','Room double','Room suite','A\\C Non A\\C'],\n",
    "    \"Rate Plans\" :['Price','Packages','Non-refundable rate','Advance Purchase rate']\n",
    "}\n",
    "    "
   ]
  },
  {
   "cell_type": "code",
   "execution_count": 17,
   "id": "9d7e7503-348b-4e0c-971d-050a34914d7d",
   "metadata": {},
   "outputs": [],
   "source": [
    "df = pd.DataFrame(dict1)"
   ]
  },
  {
   "cell_type": "code",
   "execution_count": 18,
   "id": "4a8978d6-e48c-4208-a5d4-91d27e9a1b39",
   "metadata": {},
   "outputs": [
    {
     "data": {
      "text/html": [
       "<div>\n",
       "<style scoped>\n",
       "    .dataframe tbody tr th:only-of-type {\n",
       "        vertical-align: middle;\n",
       "    }\n",
       "\n",
       "    .dataframe tbody tr th {\n",
       "        vertical-align: top;\n",
       "    }\n",
       "\n",
       "    .dataframe thead th {\n",
       "        text-align: right;\n",
       "    }\n",
       "</style>\n",
       "<table border=\"1\" class=\"dataframe\">\n",
       "  <thead>\n",
       "    <tr style=\"text-align: right;\">\n",
       "      <th></th>\n",
       "      <th>Date</th>\n",
       "      <th>Location</th>\n",
       "      <th>Agents</th>\n",
       "      <th>Customers</th>\n",
       "      <th>Room Types</th>\n",
       "      <th>Rate Plans</th>\n",
       "    </tr>\n",
       "  </thead>\n",
       "  <tbody>\n",
       "    <tr>\n",
       "      <th>0</th>\n",
       "      <td>Day</td>\n",
       "      <td>Hotel Name</td>\n",
       "      <td>Travel agents</td>\n",
       "      <td>Customer ID</td>\n",
       "      <td>Room single</td>\n",
       "      <td>Price</td>\n",
       "    </tr>\n",
       "    <tr>\n",
       "      <th>1</th>\n",
       "      <td>Week</td>\n",
       "      <td>Hotel location</td>\n",
       "      <td>Agents name</td>\n",
       "      <td>Customer name</td>\n",
       "      <td>Room double</td>\n",
       "      <td>Packages</td>\n",
       "    </tr>\n",
       "    <tr>\n",
       "      <th>2</th>\n",
       "      <td>Month</td>\n",
       "      <td>City</td>\n",
       "      <td>Agents Address</td>\n",
       "      <td>Customer Address</td>\n",
       "      <td>Room suite</td>\n",
       "      <td>Non-refundable rate</td>\n",
       "    </tr>\n",
       "    <tr>\n",
       "      <th>3</th>\n",
       "      <td>Year</td>\n",
       "      <td>Country</td>\n",
       "      <td>Agents contact info</td>\n",
       "      <td>Customer contact info</td>\n",
       "      <td>A\\C Non A\\C</td>\n",
       "      <td>Advance Purchase rate</td>\n",
       "    </tr>\n",
       "  </tbody>\n",
       "</table>\n",
       "</div>"
      ],
      "text/plain": [
       "    Date        Location               Agents              Customers  \\\n",
       "0    Day      Hotel Name        Travel agents            Customer ID   \n",
       "1   Week  Hotel location          Agents name          Customer name   \n",
       "2  Month            City       Agents Address       Customer Address   \n",
       "3   Year         Country  Agents contact info  Customer contact info   \n",
       "\n",
       "    Room Types             Rate Plans  \n",
       "0  Room single                  Price  \n",
       "1  Room double               Packages  \n",
       "2   Room suite    Non-refundable rate  \n",
       "3  A\\C Non A\\C  Advance Purchase rate  "
      ]
     },
     "execution_count": 18,
     "metadata": {},
     "output_type": "execute_result"
    }
   ],
   "source": [
    "df"
   ]
  },
  {
   "cell_type": "code",
   "execution_count": 21,
   "id": "5d29f589-816e-482e-a1c0-b563579b2746",
   "metadata": {},
   "outputs": [],
   "source": [
    "df.to_csv('Datawarehouse.csv',index=False)"
   ]
  },
  {
   "cell_type": "code",
   "execution_count": null,
   "id": "9ec8abd8-5dcb-487e-93b3-3a1a677acbd6",
   "metadata": {},
   "outputs": [],
   "source": []
  }
 ],
 "metadata": {
  "kernelspec": {
   "display_name": "Python 3 (ipykernel)",
   "language": "python",
   "name": "python3"
  },
  "language_info": {
   "codemirror_mode": {
    "name": "ipython",
    "version": 3
   },
   "file_extension": ".py",
   "mimetype": "text/x-python",
   "name": "python",
   "nbconvert_exporter": "python",
   "pygments_lexer": "ipython3",
   "version": "3.11.5"
  }
 },
 "nbformat": 4,
 "nbformat_minor": 5
}
